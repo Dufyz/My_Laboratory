{
 "cells": [
  {
   "cell_type": "code",
   "execution_count": 10,
   "metadata": {},
   "outputs": [],
   "source": [
    "from main import Name, Bet, DataBase, Result"
   ]
  },
  {
   "cell_type": "code",
   "execution_count": 11,
   "metadata": {},
   "outputs": [],
   "source": [
    "db = DataBase('db')"
   ]
  },
  {
   "cell_type": "code",
   "execution_count": 12,
   "metadata": {},
   "outputs": [],
   "source": [
    "def reg_user(name, bet):\n",
    "    user = (Name(name), Bet(bet))\n",
    "    db.users.append(user)\n",
    "\n",
    "reg_user('Guilherme', 1500)\n",
    "reg_user('Fábio', 1000)\n",
    "reg_user('André', 2000)\n",
    "reg_user('Murilo', 3000)\n",
    "reg_user('Pedro', 1000)"
   ]
  },
  {
   "cell_type": "code",
   "execution_count": 13,
   "metadata": {},
   "outputs": [
    {
     "name": "stdout",
     "output_type": "stream",
     "text": [
      "Nome: Guilherme - Bet: 1500\n",
      "Nome: Fábio - Bet: 1000\n",
      "Nome: André - Bet: 2000\n",
      "Nome: Murilo - Bet: 3000\n",
      "Nome: Pedro - Bet: 1000\n"
     ]
    }
   ],
   "source": [
    "for user in db.users:\n",
    "    name = user[0].user_name\n",
    "    bet = user[1].user_bet\n",
    "    print(f'Nome: {name} - Bet: {bet}')"
   ]
  },
  {
   "cell_type": "code",
   "execution_count": 14,
   "metadata": {},
   "outputs": [],
   "source": [
    "names = [c[0].user_name for c in db.users]\n",
    "bets = [c[1].user_bet for c in db.users]\n",
    "\n",
    "minim = min(bets)\n",
    "maxim = max(bets)"
   ]
  },
  {
   "cell_type": "code",
   "execution_count": 15,
   "metadata": {},
   "outputs": [],
   "source": [
    "def analyzer_bet(num):\n",
    "    index = 0\n",
    "    users = []\n",
    "    users_indexs = []\n",
    "\n",
    "    for bet in bets:\n",
    "        if bet == num:\n",
    "            users_indexs.append(index)\n",
    "        index += 1\n",
    "\n",
    "    for index in users_indexs:\n",
    "        user = db.users[index]\n",
    "        name, bet = user[0].user_name, user[1].user_bet\n",
    "        user = (name, bet, index)\n",
    "        users.append(user)\n",
    "    \n",
    "    return users"
   ]
  },
  {
   "cell_type": "code",
   "execution_count": 16,
   "metadata": {},
   "outputs": [],
   "source": [
    "user_min = analyzer_bet(minim)\n",
    "user_max = analyzer_bet(maxim)"
   ]
  },
  {
   "cell_type": "code",
   "execution_count": 17,
   "metadata": {},
   "outputs": [
    {
     "data": {
      "text/plain": [
       "[('Fábio', 1000, 1), ('Pedro', 1000, 4)]"
      ]
     },
     "execution_count": 17,
     "metadata": {},
     "output_type": "execute_result"
    }
   ],
   "source": [
    "user_min[0:][0:]"
   ]
  },
  {
   "cell_type": "code",
   "execution_count": 18,
   "metadata": {},
   "outputs": [
    {
     "data": {
      "text/plain": [
       "'Name: Murilo; Bet: 3000; Index: 3'"
      ]
     },
     "execution_count": 18,
     "metadata": {},
     "output_type": "execute_result"
    }
   ],
   "source": [
    "result = Result(db, maxim)\n",
    "result.result"
   ]
  },
  {
   "cell_type": "code",
   "execution_count": null,
   "metadata": {},
   "outputs": [],
   "source": []
  }
 ],
 "metadata": {
  "interpreter": {
   "hash": "51b9ad24d63439ac1595c0936db43b926a873ce9029c5f9bea069af26a7b72f1"
  },
  "kernelspec": {
   "display_name": "Python 3.8.12 64-bit ('base': conda)",
   "language": "python",
   "name": "python3"
  },
  "language_info": {
   "codemirror_mode": {
    "name": "ipython",
    "version": 3
   },
   "file_extension": ".py",
   "mimetype": "text/x-python",
   "name": "python",
   "nbconvert_exporter": "python",
   "pygments_lexer": "ipython3",
   "version": "3.8.12"
  },
  "orig_nbformat": 4
 },
 "nbformat": 4,
 "nbformat_minor": 2
}
