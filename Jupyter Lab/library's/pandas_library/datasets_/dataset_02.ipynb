{
 "cells": [
  {
   "cell_type": "code",
   "execution_count": 2,
   "metadata": {},
   "outputs": [],
   "source": [
    "import pandas as pd"
   ]
  },
  {
   "cell_type": "code",
   "execution_count": 3,
   "metadata": {},
   "outputs": [],
   "source": [
    "df = pd.read_csv('G:\\Meu Drive\\Jupyter Lab\\databases\\datasets\\\\db.csv', encoding = 'utf-8', sep = ';')"
   ]
  },
  {
   "cell_type": "code",
   "execution_count": 4,
   "metadata": {},
   "outputs": [
    {
     "data": {
      "text/html": [
       "<div>\n",
       "<style scoped>\n",
       "    .dataframe tbody tr th:only-of-type {\n",
       "        vertical-align: middle;\n",
       "    }\n",
       "\n",
       "    .dataframe tbody tr th {\n",
       "        vertical-align: top;\n",
       "    }\n",
       "\n",
       "    .dataframe thead th {\n",
       "        text-align: right;\n",
       "    }\n",
       "</style>\n",
       "<table border=\"1\" class=\"dataframe\">\n",
       "  <thead>\n",
       "    <tr style=\"text-align: right;\">\n",
       "      <th></th>\n",
       "      <th>Ano</th>\n",
       "      <th>Zero_km</th>\n",
       "    </tr>\n",
       "  </thead>\n",
       "  <tbody>\n",
       "    <tr>\n",
       "      <th>0</th>\n",
       "      <td>2003</td>\n",
       "      <td>False</td>\n",
       "    </tr>\n",
       "    <tr>\n",
       "      <th>1</th>\n",
       "      <td>1991</td>\n",
       "      <td>False</td>\n",
       "    </tr>\n",
       "    <tr>\n",
       "      <th>2</th>\n",
       "      <td>1990</td>\n",
       "      <td>False</td>\n",
       "    </tr>\n",
       "    <tr>\n",
       "      <th>3</th>\n",
       "      <td>2019</td>\n",
       "      <td>True</td>\n",
       "    </tr>\n",
       "  </tbody>\n",
       "</table>\n",
       "</div>"
      ],
      "text/plain": [
       "    Ano  Zero_km\n",
       "0  2003    False\n",
       "1  1991    False\n",
       "2  1990    False\n",
       "3  2019     True"
      ]
     },
     "execution_count": 4,
     "metadata": {},
     "output_type": "execute_result"
    }
   ],
   "source": [
    "df.loc[0:3, ['Ano', 'Zero_km']]"
   ]
  },
  {
   "cell_type": "code",
   "execution_count": 4,
   "metadata": {},
   "outputs": [
    {
     "data": {
      "text/html": [
       "<div>\n",
       "<style scoped>\n",
       "    .dataframe tbody tr th:only-of-type {\n",
       "        vertical-align: middle;\n",
       "    }\n",
       "\n",
       "    .dataframe tbody tr th {\n",
       "        vertical-align: top;\n",
       "    }\n",
       "\n",
       "    .dataframe thead th {\n",
       "        text-align: right;\n",
       "    }\n",
       "</style>\n",
       "<table border=\"1\" class=\"dataframe\">\n",
       "  <thead>\n",
       "    <tr style=\"text-align: right;\">\n",
       "      <th></th>\n",
       "      <th>Nome</th>\n",
       "      <th>Motor</th>\n",
       "      <th>Ano</th>\n",
       "      <th>Quilometragem</th>\n",
       "      <th>Zero_km</th>\n",
       "      <th>Acessórios</th>\n",
       "      <th>Valor</th>\n",
       "    </tr>\n",
       "  </thead>\n",
       "  <tbody>\n",
       "    <tr>\n",
       "      <th>0</th>\n",
       "      <td>Jetta Variant</td>\n",
       "      <td>Motor 4.0 Turbo</td>\n",
       "      <td>2003</td>\n",
       "      <td>44410.0</td>\n",
       "      <td>False</td>\n",
       "      <td>['Rodas de liga', 'Travas elétricas', 'Piloto ...</td>\n",
       "      <td>88078.64</td>\n",
       "    </tr>\n",
       "    <tr>\n",
       "      <th>26</th>\n",
       "      <td>Fiesta Rocam Sedan</td>\n",
       "      <td>Motor 4.0 Turbo</td>\n",
       "      <td>2016</td>\n",
       "      <td>5795.0</td>\n",
       "      <td>False</td>\n",
       "      <td>['Ar condicionado', 'Bancos de couro', 'Câmbio...</td>\n",
       "      <td>95347.75</td>\n",
       "    </tr>\n",
       "    <tr>\n",
       "      <th>87</th>\n",
       "      <td>Aston Martin V12 GT Zagato</td>\n",
       "      <td>Motor 4.0 Turbo</td>\n",
       "      <td>2011</td>\n",
       "      <td>113885.0</td>\n",
       "      <td>False</td>\n",
       "      <td>['Central multimídia', 'Piloto automático', 'S...</td>\n",
       "      <td>141591.86</td>\n",
       "    </tr>\n",
       "    <tr>\n",
       "      <th>96</th>\n",
       "      <td>Fox</td>\n",
       "      <td>Motor 4.0 Turbo</td>\n",
       "      <td>2003</td>\n",
       "      <td>110116.0</td>\n",
       "      <td>False</td>\n",
       "      <td>['Piloto automático', 'Câmbio automático', 'Tr...</td>\n",
       "      <td>101996.35</td>\n",
       "    </tr>\n",
       "    <tr>\n",
       "      <th>112</th>\n",
       "      <td>EcoSport</td>\n",
       "      <td>Motor 4.0 Turbo</td>\n",
       "      <td>2008</td>\n",
       "      <td>74015.0</td>\n",
       "      <td>False</td>\n",
       "      <td>['Piloto automático', 'Sensor de estacionament...</td>\n",
       "      <td>108256.72</td>\n",
       "    </tr>\n",
       "  </tbody>\n",
       "</table>\n",
       "</div>"
      ],
      "text/plain": [
       "                           Nome            Motor   Ano  Quilometragem  \\\n",
       "0                 Jetta Variant  Motor 4.0 Turbo  2003        44410.0   \n",
       "26           Fiesta Rocam Sedan  Motor 4.0 Turbo  2016         5795.0   \n",
       "87   Aston Martin V12 GT Zagato  Motor 4.0 Turbo  2011       113885.0   \n",
       "96                          Fox  Motor 4.0 Turbo  2003       110116.0   \n",
       "112                    EcoSport  Motor 4.0 Turbo  2008        74015.0   \n",
       "\n",
       "     Zero_km                                         Acessórios      Valor  \n",
       "0      False  ['Rodas de liga', 'Travas elétricas', 'Piloto ...   88078.64  \n",
       "26     False  ['Ar condicionado', 'Bancos de couro', 'Câmbio...   95347.75  \n",
       "87     False  ['Central multimídia', 'Piloto automático', 'S...  141591.86  \n",
       "96     False  ['Piloto automático', 'Câmbio automático', 'Tr...  101996.35  \n",
       "112    False  ['Piloto automático', 'Sensor de estacionament...  108256.72  "
      ]
     },
     "execution_count": 4,
     "metadata": {},
     "output_type": "execute_result"
    }
   ],
   "source": [
    "df[(df.Motor == 'Motor 4.0 Turbo') & (df.Zero_km == False ) & (df.Ano >= 2003)].head()"
   ]
  },
  {
   "cell_type": "code",
   "execution_count": 5,
   "metadata": {
    "scrolled": true
   },
   "outputs": [
    {
     "data": {
      "text/html": [
       "<div>\n",
       "<style scoped>\n",
       "    .dataframe tbody tr th:only-of-type {\n",
       "        vertical-align: middle;\n",
       "    }\n",
       "\n",
       "    .dataframe tbody tr th {\n",
       "        vertical-align: top;\n",
       "    }\n",
       "\n",
       "    .dataframe thead th {\n",
       "        text-align: right;\n",
       "    }\n",
       "</style>\n",
       "<table border=\"1\" class=\"dataframe\">\n",
       "  <thead>\n",
       "    <tr style=\"text-align: right;\">\n",
       "      <th></th>\n",
       "      <th>Nome</th>\n",
       "      <th>Motor</th>\n",
       "      <th>Ano</th>\n",
       "      <th>Quilometragem</th>\n",
       "      <th>Zero_km</th>\n",
       "      <th>Acessórios</th>\n",
       "      <th>Valor</th>\n",
       "    </tr>\n",
       "  </thead>\n",
       "  <tbody>\n",
       "    <tr>\n",
       "      <th>2</th>\n",
       "      <td>Crossfox</td>\n",
       "      <td>Motor Diesel V8</td>\n",
       "      <td>1990</td>\n",
       "      <td>37123.0</td>\n",
       "      <td>False</td>\n",
       "      <td>['Piloto automático', 'Controle de estabilidad...</td>\n",
       "      <td>72832.16</td>\n",
       "    </tr>\n",
       "    <tr>\n",
       "      <th>6</th>\n",
       "      <td>A5</td>\n",
       "      <td>Motor 4.0 Turbo</td>\n",
       "      <td>2019</td>\n",
       "      <td>NaN</td>\n",
       "      <td>True</td>\n",
       "      <td>['Câmbio automático', 'Câmera de estacionament...</td>\n",
       "      <td>56445.20</td>\n",
       "    </tr>\n",
       "    <tr>\n",
       "      <th>9</th>\n",
       "      <td>Carens</td>\n",
       "      <td>Motor 5.0 V8 Bi-Turbo</td>\n",
       "      <td>2011</td>\n",
       "      <td>37978.0</td>\n",
       "      <td>False</td>\n",
       "      <td>['Ar condicionado', 'Painel digital', 'Central...</td>\n",
       "      <td>76566.49</td>\n",
       "    </tr>\n",
       "    <tr>\n",
       "      <th>10</th>\n",
       "      <td>Ford Edge</td>\n",
       "      <td>Motor Diesel V6</td>\n",
       "      <td>2002</td>\n",
       "      <td>12859.0</td>\n",
       "      <td>False</td>\n",
       "      <td>['Sensor crepuscular', 'Rodas de liga', 'Teto ...</td>\n",
       "      <td>71647.59</td>\n",
       "    </tr>\n",
       "    <tr>\n",
       "      <th>11</th>\n",
       "      <td>Courier</td>\n",
       "      <td>Motor Diesel V8</td>\n",
       "      <td>2007</td>\n",
       "      <td>8052.0</td>\n",
       "      <td>False</td>\n",
       "      <td>['Central multimídia', '4 X 4', 'Piloto automá...</td>\n",
       "      <td>73919.53</td>\n",
       "    </tr>\n",
       "  </tbody>\n",
       "</table>\n",
       "</div>"
      ],
      "text/plain": [
       "         Nome                  Motor   Ano  Quilometragem  Zero_km  \\\n",
       "2    Crossfox        Motor Diesel V8  1990        37123.0    False   \n",
       "6          A5        Motor 4.0 Turbo  2019            NaN     True   \n",
       "9      Carens  Motor 5.0 V8 Bi-Turbo  2011        37978.0    False   \n",
       "10  Ford Edge        Motor Diesel V6  2002        12859.0    False   \n",
       "11    Courier        Motor Diesel V8  2007         8052.0    False   \n",
       "\n",
       "                                           Acessórios     Valor  \n",
       "2   ['Piloto automático', 'Controle de estabilidad...  72832.16  \n",
       "6   ['Câmbio automático', 'Câmera de estacionament...  56445.20  \n",
       "9   ['Ar condicionado', 'Painel digital', 'Central...  76566.49  \n",
       "10  ['Sensor crepuscular', 'Rodas de liga', 'Teto ...  71647.59  \n",
       "11  ['Central multimídia', '4 X 4', 'Piloto automá...  73919.53  "
      ]
     },
     "execution_count": 5,
     "metadata": {},
     "output_type": "execute_result"
    }
   ],
   "source": [
    "df[(df.Motor.isin(['Motor 4.0 Turbo', 'Motor V8'])) & (df.Valor >= 100000) | (df.Valor <= 80000) ].head()"
   ]
  },
  {
   "cell_type": "code",
   "execution_count": 17,
   "metadata": {
    "scrolled": true
   },
   "outputs": [
    {
     "data": {
      "text/plain": [
       "Motor                  Ano \n",
       "Motor 3.0 32v          2019    10\n",
       "Motor V8               2019     9\n",
       "Motor 4.0 Turbo        2019     6\n",
       "Motor Diesel V8        2019     6\n",
       "Motor Diesel           2019     5\n",
       "Motor 1.8 16v          2019     4\n",
       "Motor 5.0 V8 Bi-Turbo  2019     4\n",
       "Motor 2.4 Turbo        2019     4\n",
       "Motor V6               2019     4\n",
       "Motor Diesel           2015     3\n",
       "Motor 1.0 8v           2019     3\n",
       "Motor 5.0 V8 Bi-Turbo  2002     3\n",
       "Motor 4.0 Turbo        2005     3\n",
       "Motor Diesel V6        2019     3\n",
       "Motor 2.0 16v          2019     3\n",
       "Motor Diesel V8        2007     3\n",
       "Motor 5.0 V8 Bi-Turbo  1994     2\n",
       "Motor Diesel           2002     2\n",
       "Motor Diesel V6        1990     2\n",
       "Motor Diesel           1991     2\n",
       "dtype: int64"
      ]
     },
     "execution_count": 17,
     "metadata": {},
     "output_type": "execute_result"
    }
   ],
   "source": [
    "df[['Motor', 'Ano']].value_counts().head(20)"
   ]
  },
  {
   "cell_type": "code",
   "execution_count": 19,
   "metadata": {},
   "outputs": [
    {
     "data": {
      "text/plain": [
       "False    197\n",
       "True      61\n",
       "Name: Zero_km, dtype: int64"
      ]
     },
     "execution_count": 19,
     "metadata": {},
     "output_type": "execute_result"
    }
   ],
   "source": [
    "df['Zero_km'].value_counts()"
   ]
  },
  {
   "cell_type": "code",
   "execution_count": 28,
   "metadata": {},
   "outputs": [],
   "source": [
    "#motor_grp = df.groupby('Motor')\n",
    "#motor_grp.get_group('Motor Diesel')"
   ]
  },
  {
   "cell_type": "code",
   "execution_count": 39,
   "metadata": {
    "scrolled": true
   },
   "outputs": [
    {
     "data": {
      "text/plain": [
       "False    17\n",
       "True      9\n",
       "Name: Zero_km, dtype: int64"
      ]
     },
     "execution_count": 39,
     "metadata": {},
     "output_type": "execute_result"
    }
   ],
   "source": [
    "filt = df['Motor'] == 'Motor V8'\n",
    "df.loc[filt]['Zero_km'].value_counts()"
   ]
  },
  {
   "cell_type": "code",
   "execution_count": null,
   "metadata": {},
   "outputs": [],
   "source": []
  }
 ],
 "metadata": {
  "kernelspec": {
   "display_name": "Python 3",
   "language": "python",
   "name": "python3"
  },
  "language_info": {
   "codemirror_mode": {
    "name": "ipython",
    "version": 3
   },
   "file_extension": ".py",
   "mimetype": "text/x-python",
   "name": "python",
   "nbconvert_exporter": "python",
   "pygments_lexer": "ipython3",
   "version": "3.8.5"
  }
 },
 "nbformat": 4,
 "nbformat_minor": 4
}
