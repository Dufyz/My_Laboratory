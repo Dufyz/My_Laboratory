{
 "cells": [
  {
   "cell_type": "markdown",
   "id": "88dd97ee",
   "metadata": {},
   "source": [
    "# Linear SVC "
   ]
  },
  {
   "cell_type": "code",
   "execution_count": 7,
   "id": "1f4aab61",
   "metadata": {},
   "outputs": [],
   "source": [
    "# Bibliotecas usadas no código\n",
    "\n",
    "from sklearn.svm import LinearSVC\n",
    "from sklearn.metrics import accuracy_score"
   ]
  },
  {
   "cell_type": "code",
   "execution_count": 34,
   "id": "9efa47ed",
   "metadata": {},
   "outputs": [],
   "source": [
    "# Dados para treino\n",
    "# Features [Tem chifre ?; Relincha?; Tem ferradura?] (0 = Não; 1 = Sim)\n",
    "\n",
    "moose1 = [1, 0, 1] \n",
    "moose2 = [1, 0, 0]\n",
    "moose3 = [0, 0 , 0]\n",
    "moose4 = [1, 1 , 0]\n",
    "moose5 = [0, 0, 1]\n",
    "\n",
    "horse1 = [0, 1, 1]\n",
    "horse2 = [0, 1, 0]\n",
    "horse3 = [1, 1, 0]\n",
    "horse4 = [0, 0, 1]\n",
    "horse5 = [0, 1, 1]\n",
    "\n",
    "# Resultado dos dados para treino (0 = Moose; 1 = Horse)\n",
    "train_x = [moose1, moose2, moose3, moose4, moose5, horse1, horse2, horse3, horse4, horse5]\n",
    "train_y = [0, 0, 0, 0, 0, 1, 1, 1, 1, 1]"
   ]
  },
  {
   "cell_type": "code",
   "execution_count": 35,
   "id": "9ffe47c5",
   "metadata": {},
   "outputs": [
    {
     "data": {
      "text/plain": [
       "LinearSVC()"
      ]
     },
     "execution_count": 35,
     "metadata": {},
     "output_type": "execute_result"
    }
   ],
   "source": [
    "# Treino\n",
    "\n",
    "model = LinearSVC()\n",
    "model.fit(train_x, train_y)"
   ]
  },
  {
   "cell_type": "code",
   "execution_count": 36,
   "id": "93403cc3",
   "metadata": {},
   "outputs": [
    {
     "name": "stdout",
     "output_type": "stream",
     "text": [
      "[1 0 0 1 0]\n"
     ]
    }
   ],
   "source": [
    "# Dados para teste\n",
    "\n",
    "mistery1 = [1, 1, 1] \n",
    "mistery2 = [0, 0, 1]\n",
    "mistery3 = [1, 0, 1]\n",
    "mistery4 = [0, 1, 1]\n",
    "mistery5 = [0, 0, 0]\n",
    "\n",
    "test_x = [mistery1, mistery2, mistery3, mistery4, mistery5]\n",
    "test_y = [1, 0, 0, 1, 0]\n",
    "              \n",
    "predict = model.predict(test_x)\n",
    "print(predict)"
   ]
  },
  {
   "cell_type": "code",
   "execution_count": 39,
   "id": "b94d15cd",
   "metadata": {},
   "outputs": [
    {
     "data": {
      "text/plain": [
       "1.0"
      ]
     },
     "execution_count": 39,
     "metadata": {},
     "output_type": "execute_result"
    }
   ],
   "source": [
    "# Medindo nosso teste\n",
    "\n",
    "scores = accuracy_score(test_y, predict)\n",
    "scores"
   ]
  },
  {
   "cell_type": "markdown",
   "id": "8bbbaba6",
   "metadata": {},
   "source": [
    "# CSV Files"
   ]
  },
  {
   "cell_type": "code",
   "execution_count": 34,
   "id": "9c7e4f69",
   "metadata": {},
   "outputs": [],
   "source": [
    "# Bibliotecas que serão utilizadas\n",
    "\n",
    "import pandas as pd\n",
    "from sklearn.svm import LinearSVC\n",
    "from sklearn.metrics import accuracy_score\n",
    "\n",
    "# Criando os cursores\n",
    "\n",
    "model = LinearSVC()"
   ]
  },
  {
   "cell_type": "code",
   "execution_count": 92,
   "id": "96802359",
   "metadata": {},
   "outputs": [
    {
     "data": {
      "text/plain": [
       "<bound method NDFrame.describe of     home  how_it_works  contact  bought\n",
       "0      1             1        0       0\n",
       "1      1             1        0       0\n",
       "2      1             1        0       0\n",
       "3      1             1        0       0\n",
       "4      1             1        0       0\n",
       "..   ...           ...      ...     ...\n",
       "94     0             0        1       0\n",
       "95     1             1        1       1\n",
       "96     0             0        1       0\n",
       "97     0             1        0       0\n",
       "98     0             0        0       0\n",
       "\n",
       "[99 rows x 4 columns]>"
      ]
     },
     "execution_count": 92,
     "metadata": {},
     "output_type": "execute_result"
    }
   ],
   "source": [
    "# Carregar o dadabase\n",
    "\n",
    "uri = \"https://gist.githubusercontent.com/guilhermesilveira/2d2efa37d66b6c84a722ea627a897ced/raw/10968b997d885cbded1c92938c7a9912ba41c615/tracking.csv\"\n",
    "db = pd.read_csv(uri)\n",
    "\n",
    "rename = {\n",
    "    'home': 'principal',\n",
    "    'how_it_works': 'como_funciona',\n",
    "    'contact': 'contatos',\n",
    "    'bought': 'compras'\n",
    "}\n",
    "\n",
    "db_alterated = db.rename(columns = rename)\n",
    "\n",
    "db_alterated\n",
    "db.describe"
   ]
  },
  {
   "cell_type": "code",
   "execution_count": 30,
   "id": "d873631c",
   "metadata": {},
   "outputs": [
    {
     "name": "stdout",
     "output_type": "stream",
     "text": [
      "(99, 3)\n",
      "(99,)\n"
     ]
    }
   ],
   "source": [
    "# Vamos dividir as features X e Y para poder treinar \n",
    "\n",
    "db_x = db[['home', 'how_it_works', 'contact']]\n",
    "db_y = db['bought']\n",
    "\n",
    "print(db_x.shape)\n",
    "print(db_y.shape)"
   ]
  },
  {
   "cell_type": "code",
   "execution_count": 72,
   "id": "95e2c2d8",
   "metadata": {},
   "outputs": [
    {
     "data": {
      "text/plain": [
       "LinearSVC()"
      ]
     },
     "execution_count": 72,
     "metadata": {},
     "output_type": "execute_result"
    }
   ],
   "source": [
    "# Treinar nossa máquina para predizer se um cliente irá ou não comprar algo baseado em seus acessos ao site\n",
    "\n",
    "train_x = db_x[:30]\n",
    "train_y = db_y[:30]\n",
    "\n",
    "test_x = db_x[30:]\n",
    "test_y = db_y[30:]\n",
    "\n",
    "model.fit(train_x, train_y)"
   ]
  },
  {
   "cell_type": "code",
   "execution_count": 73,
   "id": "7224fcb8",
   "metadata": {},
   "outputs": [],
   "source": [
    "# Teste da nossa máquina\n",
    "\n",
    "predict = model.predict(test_x)"
   ]
  },
  {
   "cell_type": "code",
   "execution_count": 93,
   "id": "80f6a158",
   "metadata": {},
   "outputs": [
    {
     "name": "stdout",
     "output_type": "stream",
     "text": [
      "accuracy: 97.10\n"
     ]
    }
   ],
   "source": [
    "# Medindo o resultado da máquina\n",
    "\n",
    "accuracy = accuracy_score(test_y, predict) * 100\n",
    "print('accuracy: %.2f' % (accuracy))"
   ]
  },
  {
   "cell_type": "markdown",
   "id": "36d52142",
   "metadata": {},
   "source": [
    "# Auto Split"
   ]
  },
  {
   "cell_type": "code",
   "execution_count": 132,
   "id": "05e3972f",
   "metadata": {},
   "outputs": [],
   "source": [
    "# Biliotecas para auto split do treino e teste\n",
    "\n",
    "from sklearn.model_selection import train_test_split"
   ]
  },
  {
   "cell_type": "code",
   "execution_count": 169,
   "id": "707644be",
   "metadata": {},
   "outputs": [],
   "source": [
    "# Como separar treino_x/y e test_x/y automaticamente através do train_test_split\n",
    "# Ordem correta = train_x, test_x, train_y, test_y\n",
    "\n",
    "train_x, test_x, train_y, test_y = train_test_split(db_x, db_y, test_size = 0.25, \n",
    "                                                    random_state = 57, stratify = db_y)"
   ]
  },
  {
   "cell_type": "code",
   "execution_count": 170,
   "id": "b92be031",
   "metadata": {},
   "outputs": [
    {
     "data": {
      "text/plain": [
       "LinearSVC()"
      ]
     },
     "execution_count": 170,
     "metadata": {},
     "output_type": "execute_result"
    }
   ],
   "source": [
    "# Treinando a maquina\n",
    "\n",
    "model.fit(train_x, train_y)"
   ]
  },
  {
   "cell_type": "code",
   "execution_count": 171,
   "id": "165dab32",
   "metadata": {},
   "outputs": [],
   "source": [
    "# Testando nossa máquina\n",
    "\n",
    "predict = model.predict(test_x)"
   ]
  },
  {
   "cell_type": "code",
   "execution_count": 172,
   "id": "83d54c43",
   "metadata": {},
   "outputs": [
    {
     "name": "stdout",
     "output_type": "stream",
     "text": [
      "Accuracy: 92\n"
     ]
    }
   ],
   "source": [
    "# Medindo o resultado da nossa máquina\n",
    "\n",
    "accuracy = accuracy_score(test_y, predict) * 100\n",
    "print('Accuracy: %2.f' % accuracy)"
   ]
  }
 ],
 "metadata": {
  "kernelspec": {
   "display_name": "Python 3",
   "language": "python",
   "name": "python3"
  },
  "language_info": {
   "codemirror_mode": {
    "name": "ipython",
    "version": 3
   },
   "file_extension": ".py",
   "mimetype": "text/x-python",
   "name": "python",
   "nbconvert_exporter": "python",
   "pygments_lexer": "ipython3",
   "version": "3.8.8"
  }
 },
 "nbformat": 4,
 "nbformat_minor": 5
}
