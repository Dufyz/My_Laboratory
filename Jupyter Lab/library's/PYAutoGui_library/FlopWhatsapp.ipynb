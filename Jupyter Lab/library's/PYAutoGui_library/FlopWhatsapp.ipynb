{
 "cells": [
  {
   "cell_type": "code",
   "execution_count": 1,
   "metadata": {},
   "outputs": [],
   "source": [
    "import pyautogui\n",
    "import time\n",
    "import pyperclip"
   ]
  },
  {
   "cell_type": "code",
   "execution_count": 55,
   "metadata": {},
   "outputs": [],
   "source": [
    "auto = pyautogui\n",
    "hotkey = auto.hotkey\n",
    "write = auto.write\n",
    "click = auto.click\n",
    "\n",
    "mensagem = 'ai papai forget'"
   ]
  },
  {
   "cell_type": "code",
   "execution_count": 62,
   "metadata": {},
   "outputs": [],
   "source": [
    "auto.PAUSE = 1\n",
    "\n",
    "#hotkey('ctrl', 't')\n",
    "\n",
    "#link = 'https://web.whatsapp.com/'\n",
    "#pyperclip.copy(link)\n",
    "\n",
    "#hotkey('ctrl', 'v')\n",
    "#hotkey('enter')\n",
    "\n",
    "auto.PAUSE = 0\n",
    "\n",
    "#time.sleep(5)\n",
    "click(552, 0 , clicks = 1)\n",
    "click(522, 328 , clicks = 1)\n",
    "click(983, 1035 , clicks = 1)\n",
    "\n",
    "write(mensagem), hotkey('enter'), write(mensagem), hotkey('enter'), write(mensagem), hotkey('enter'), \n",
    "write(mensagem), hotkey('enter'), write(mensagem), hotkey('enter'), write(mensagem), hotkey('enter'), \n",
    "write(mensagem), hotkey('enter'), write(mensagem), hotkey('enter'), write(mensagem), hotkey('enter'), \n",
    "write(mensagem), hotkey('enter'), write(mensagem), hotkey('enter'), write(mensagem), hotkey('enter'), \n",
    "write(mensagem), hotkey('enter'), write(mensagem), hotkey('enter'), write(mensagem), hotkey('enter'), \n",
    "write(mensagem), hotkey('enter'), write(mensagem), hotkey('enter'), write(mensagem), hotkey('enter'), \n",
    "write(mensagem), hotkey('enter'), write(mensagem), hotkey('enter'), write(mensagem), hotkey('enter'), \n",
    "write(mensagem), hotkey('enter'), write(mensagem), hotkey('enter'), write(mensagem), hotkey('enter'), \n",
    "write(mensagem), hotkey('enter'), write(mensagem), hotkey('enter'), write(mensagem), hotkey('enter'), \n",
    "write(mensagem), hotkey('enter'), write(mensagem), hotkey('enter'), write(mensagem), hotkey('enter'), \n",
    "write(mensagem), hotkey('enter'), write(mensagem), hotkey('enter'), write(mensagem), hotkey('enter'), \n",
    "write(mensagem), hotkey('enter'), write(mensagem), hotkey('enter'), write(mensagem), hotkey('enter'), \n",
    "write(mensagem), hotkey('enter'), write(mensagem), hotkey('enter'), write(mensagem), hotkey('enter'), \n",
    "write(mensagem), hotkey('enter'), write(mensagem), hotkey('enter'), write(mensagem), hotkey('enter'), \n",
    "write(mensagem), hotkey('enter'), write(mensagem), hotkey('enter'), write(mensagem), hotkey('enter'), \n",
    "write(mensagem), hotkey('enter'), write(mensagem), hotkey('enter'), write(mensagem), hotkey('enter'), \n",
    "write(mensagem), hotkey('enter'), write(mensagem), hotkey('enter'), write(mensagem), hotkey('enter'), \n",
    "write(mensagem), hotkey('enter'), write(mensagem), hotkey('enter'), write(mensagem), hotkey('enter'), \n",
    "write(mensagem), hotkey('enter'), write(mensagem), hotkey('enter'), write(mensagem), hotkey('enter'), \n",
    "write(mensagem), hotkey('enter'), write(mensagem), hotkey('enter'), write(mensagem), hotkey('enter'), \n",
    "write(mensagem), hotkey('enter'), write(mensagem), hotkey('enter'), write(mensagem), hotkey('enter'), \n",
    "write(mensagem), hotkey('enter'), write(mensagem), hotkey('enter'), write(mensagem), hotkey('enter'), \n",
    "write(mensagem), hotkey('enter'), write(mensagem), hotkey('enter'), write(mensagem), hotkey('enter'), \n",
    "write(mensagem), hotkey('enter'), write(mensagem), hotkey('enter'), write(mensagem), hotkey('enter'), \n",
    "write(mensagem), hotkey('enter'), write(mensagem), hotkey('enter'), write(mensagem), hotkey('enter'), \n",
    "write(mensagem), hotkey('enter'), write(mensagem), hotkey('enter'), write(mensagem), hotkey('enter'), \n",
    "write(mensagem), hotkey('enter'), write(mensagem), hotkey('enter'), write(mensagem), hotkey('enter'), \n",
    "write(mensagem), hotkey('enter'), write(mensagem), hotkey('enter'), write(mensagem), hotkey('enter'), \n",
    "write(mensagem), hotkey('enter'), write(mensagem), hotkey('enter'), write(mensagem), hotkey('enter'), \n",
    "write(mensagem), hotkey('enter'), write(mensagem), hotkey('enter'), write(mensagem), hotkey('enter'), \n",
    "write(mensagem), hotkey('enter'), write(mensagem), hotkey('enter'), write(mensagem), hotkey('enter'), \n",
    "write(mensagem), hotkey('enter'), write(mensagem), hotkey('enter'), write(mensagem), hotkey('enter'), \n",
    "write(mensagem), hotkey('enter'), write(mensagem), hotkey('enter'), write(mensagem), hotkey('enter'), \n",
    "write(mensagem), hotkey('enter'), write(mensagem), hotkey('enter'), write(mensagem), hotkey('enter'), \n",
    "write(mensagem), hotkey('enter'), write(mensagem), hotkey('enter'), write(mensagem), hotkey('enter'), \n",
    "write(mensagem), hotkey('enter'), write(mensagem), hotkey('enter'), write(mensagem), hotkey('enter'), \n",
    "write(mensagem), hotkey('enter'), write(mensagem), hotkey('enter'), write(mensagem), hotkey('enter'), \n",
    "write(mensagem), hotkey('enter'), write(mensagem), hotkey('enter'), write(mensagem), hotkey('enter'), \n",
    "write(mensagem), hotkey('enter'), write(mensagem), hotkey('enter'), write(mensagem), hotkey('enter'), \n",
    "write(mensagem), hotkey('enter'), write(mensagem), hotkey('enter'), write(mensagem), hotkey('enter'), \n",
    "write(mensagem), hotkey('enter'), write(mensagem), hotkey('enter'), write(mensagem), hotkey('enter'), \n",
    "write(mensagem), hotkey('enter'), write(mensagem), hotkey('enter'), write(mensagem), hotkey('enter'), \n",
    "write(mensagem), hotkey('enter'), write(mensagem), hotkey('enter'), write(mensagem), hotkey('enter'), \n",
    "write(mensagem), hotkey('enter'), write(mensagem), hotkey('enter'), write(mensagem), hotkey('enter'), \n",
    "write(mensagem), hotkey('enter'), write(mensagem), hotkey('enter'), write(mensagem), hotkey('enter'), \n",
    "write(mensagem), hotkey('enter'), write(mensagem), hotkey('enter'), write(mensagem), hotkey('enter'), \n",
    "write(mensagem), hotkey('enter'), write(mensagem), hotkey('enter'), write(mensagem), hotkey('enter'), \n",
    "write(mensagem), hotkey('enter'), write(mensagem), hotkey('enter'), write(mensagem), hotkey('enter'), \n",
    "write(mensagem), hotkey('enter'), write(mensagem), hotkey('enter'), write(mensagem), hotkey('enter'), \n",
    "write(mensagem), hotkey('enter'), write(mensagem), hotkey('enter'), write(mensagem), hotkey('enter'), \n",
    "write(mensagem), hotkey('enter'), write(mensagem), hotkey('enter'), write(mensagem), hotkey('enter'), \n",
    "write(mensagem), hotkey('enter'), write(mensagem), hotkey('enter'), write(mensagem), hotkey('enter'), \n",
    "write(mensagem), hotkey('enter'), write(mensagem), hotkey('enter'), write(mensagem), hotkey('enter'), \n",
    "write(mensagem), hotkey('enter'), write(mensagem), hotkey('enter'), write(mensagem), hotkey('enter'), \n",
    "write(mensagem), hotkey('enter'), write(mensagem), hotkey('enter'), write(mensagem), hotkey('enter'), \n",
    "write(mensagem), hotkey('enter'), write(mensagem), hotkey('enter'), write(mensagem), hotkey('enter'), \n",
    "write(mensagem), hotkey('enter'), write(mensagem), hotkey('enter'), write(mensagem), hotkey('enter')\n",
    "\n",
    "\n",
    "time.sleep(1)"
   ]
  },
  {
   "cell_type": "code",
   "execution_count": null,
   "metadata": {},
   "outputs": [],
   "source": []
  },
  {
   "cell_type": "code",
   "execution_count": 61,
   "metadata": {},
   "outputs": [
    {
     "data": {
      "text/plain": [
       "Point(x=522, y=328)"
      ]
     },
     "execution_count": 61,
     "metadata": {},
     "output_type": "execute_result"
    }
   ],
   "source": [
    "time.sleep(4)\n",
    "auto.position()"
   ]
  },
  {
   "cell_type": "code",
   "execution_count": null,
   "metadata": {},
   "outputs": [],
   "source": []
  },
  {
   "cell_type": "code",
   "execution_count": null,
   "metadata": {},
   "outputs": [],
   "source": []
  }
 ],
 "metadata": {
  "kernelspec": {
   "display_name": "Python 3",
   "language": "python",
   "name": "python3"
  },
  "language_info": {
   "codemirror_mode": {
    "name": "ipython",
    "version": 3
   },
   "file_extension": ".py",
   "mimetype": "text/x-python",
   "name": "python",
   "nbconvert_exporter": "python",
   "pygments_lexer": "ipython3",
   "version": "3.8.5"
  }
 },
 "nbformat": 4,
 "nbformat_minor": 4
}
