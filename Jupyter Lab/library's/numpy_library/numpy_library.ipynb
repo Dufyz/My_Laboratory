{
 "cells": [
  {
   "cell_type": "code",
   "execution_count": 146,
   "metadata": {},
   "outputs": [],
   "source": [
    "import numpy as np"
   ]
  },
  {
   "cell_type": "markdown",
   "metadata": {},
   "source": [
    "# Types of Array's"
   ]
  },
  {
   "cell_type": "code",
   "execution_count": 147,
   "metadata": {},
   "outputs": [],
   "source": [
    "a = np.array([1,2,3])"
   ]
  },
  {
   "cell_type": "code",
   "execution_count": 148,
   "metadata": {},
   "outputs": [
    {
     "name": "stdout",
     "output_type": "stream",
     "text": [
      "[1 2 3]\n",
      "<class 'numpy.ndarray'>\n",
      "int32\n"
     ]
    }
   ],
   "source": [
    "print(a)\n",
    "print(type(a))\n",
    "print(a.dtype)"
   ]
  },
  {
   "cell_type": "code",
   "execution_count": 149,
   "metadata": {},
   "outputs": [],
   "source": [
    "b = np.array([4.0, 5, 9.35])"
   ]
  },
  {
   "cell_type": "code",
   "execution_count": 150,
   "metadata": {},
   "outputs": [
    {
     "name": "stdout",
     "output_type": "stream",
     "text": [
      "[4.   5.   9.35]\n",
      "<class 'numpy.ndarray'>\n",
      "float64\n"
     ]
    }
   ],
   "source": [
    "print(b)\n",
    "print(type(b))\n",
    "print(b.dtype)"
   ]
  },
  {
   "cell_type": "code",
   "execution_count": 151,
   "metadata": {},
   "outputs": [],
   "source": [
    "c = np.array(['A', 2])"
   ]
  },
  {
   "cell_type": "code",
   "execution_count": 152,
   "metadata": {},
   "outputs": [
    {
     "name": "stdout",
     "output_type": "stream",
     "text": [
      "['A' '2']\n",
      "<class 'numpy.ndarray'>\n",
      "<U1\n"
     ]
    }
   ],
   "source": [
    "print(c)\n",
    "print(type(c))\n",
    "print(c.dtype)"
   ]
  },
  {
   "cell_type": "code",
   "execution_count": 153,
   "metadata": {},
   "outputs": [
    {
     "name": "stderr",
     "output_type": "stream",
     "text": [
      "<ipython-input-153-4dff87d20c48>:1: VisibleDeprecationWarning: Creating an ndarray from ragged nested sequences (which is a list-or-tuple of lists-or-tuples-or ndarrays with different lengths or shapes) is deprecated. If you meant to do this, you must specify 'dtype=object' when creating the ndarray\n",
      "  d = np.array([[1,2,3], ['A', 'B', 'C'], ['A', 2]])\n"
     ]
    }
   ],
   "source": [
    "d = np.array([[1,2,3], ['A', 'B', 'C'], ['A', 2]])"
   ]
  },
  {
   "cell_type": "code",
   "execution_count": 154,
   "metadata": {},
   "outputs": [],
   "source": [
    "d = np.array([[1,2,3], [4, 5, 6]])"
   ]
  },
  {
   "cell_type": "code",
   "execution_count": 155,
   "metadata": {},
   "outputs": [
    {
     "name": "stdout",
     "output_type": "stream",
     "text": [
      "[[1 2 3]\n",
      " [4 5 6]]\n",
      "<class 'numpy.ndarray'>\n",
      "int32\n"
     ]
    }
   ],
   "source": [
    "print(d)\n",
    "print(type(d))\n",
    "print(d.dtype)"
   ]
  },
  {
   "cell_type": "code",
   "execution_count": 197,
   "metadata": {},
   "outputs": [],
   "source": [
    "e = np.array([['A', 'B', 'C'], ['D', 'E', 'F'], [1,2,3]])\n",
    "#e = np.array([['A', 'B', 'C'], ['D', 'E', 'F'], [1,2,3], ['G', 4]]) #Doesn't work"
   ]
  },
  {
   "cell_type": "code",
   "execution_count": 249,
   "metadata": {},
   "outputs": [],
   "source": [
    "f = np.array([[['A', 'B', 'C'], ['D', 'E', 'F']], \n",
    "              [[1, 2, 3], [4, 5, 6]], \n",
    "              [['G', 7, 8], ['H', 9, 10]], \n",
    "              [[11, 12, 13], [14, 15 ,16]]])"
   ]
  },
  {
   "cell_type": "code",
   "execution_count": 250,
   "metadata": {},
   "outputs": [
    {
     "name": "stdout",
     "output_type": "stream",
     "text": [
      "[[['A' 'B' 'C']\n",
      "  ['D' 'E' 'F']]\n",
      "\n",
      " [['1' '2' '3']\n",
      "  ['4' '5' '6']]\n",
      "\n",
      " [['G' '7' '8']\n",
      "  ['H' '9' '10']]\n",
      "\n",
      " [['11' '12' '13']\n",
      "  ['14' '15' '16']]]\n",
      "<class 'numpy.ndarray'>\n",
      "<U2\n"
     ]
    }
   ],
   "source": [
    "print(f)\n",
    "print(type(f))\n",
    "print(f.dtype)"
   ]
  },
  {
   "cell_type": "code",
   "execution_count": 187,
   "metadata": {},
   "outputs": [
    {
     "name": "stdout",
     "output_type": "stream",
     "text": [
      "[['A' 'B' 'C']\n",
      " ['D' 'E' 'F']\n",
      " ['1' '2' '3']]\n",
      "<class 'numpy.ndarray'>\n",
      "<U1\n"
     ]
    }
   ],
   "source": [
    "print(e)\n",
    "print(type(e))\n",
    "print(e.dtype)"
   ]
  },
  {
   "cell_type": "code",
   "execution_count": 217,
   "metadata": {},
   "outputs": [
    {
     "name": "stdout",
     "output_type": "stream",
     "text": [
      "[ 4.  10.  37.4]\n",
      "[[ 4.  20.  40.4]\n",
      " [13.   2.  40.4]]\n"
     ]
    }
   ],
   "source": [
    "print(a * b)\n",
    "print((a * (b * d)) + a - d)"
   ]
  },
  {
   "cell_type": "code",
   "execution_count": 218,
   "metadata": {},
   "outputs": [
    {
     "name": "stdout",
     "output_type": "stream",
     "text": [
      "1\n",
      "1\n",
      "1\n",
      "2\n",
      "2\n",
      "3\n"
     ]
    }
   ],
   "source": [
    "print(a.ndim)\n",
    "print(b.ndim)\n",
    "print(c.ndim)\n",
    "print(d.ndim)\n",
    "print(e.ndim)\n",
    "print(f.ndim)"
   ]
  },
  {
   "cell_type": "code",
   "execution_count": 227,
   "metadata": {},
   "outputs": [
    {
     "name": "stdout",
     "output_type": "stream",
     "text": [
      "(3,)\n",
      "(3,)\n",
      "(2,)\n",
      "(2, 3)\n",
      "(3, 3)\n",
      "(4, 2, 3)\n"
     ]
    }
   ],
   "source": [
    "print(a.shape)\n",
    "print(b.shape)\n",
    "print(c.shape)\n",
    "print(d.shape)\n",
    "print(e.shape)\n",
    "print(f.shape)"
   ]
  },
  {
   "cell_type": "markdown",
   "metadata": {},
   "source": [
    "# Acessing/Changing  Elements "
   ]
  },
  {
   "cell_type": "code",
   "execution_count": 161,
   "metadata": {},
   "outputs": [],
   "source": [
    "# Get a specific element > index[row, column]"
   ]
  },
  {
   "cell_type": "code",
   "execution_count": 162,
   "metadata": {},
   "outputs": [
    {
     "name": "stdout",
     "output_type": "stream",
     "text": [
      "[1 2 3]\n"
     ]
    },
    {
     "data": {
      "text/plain": [
       "2"
      ]
     },
     "execution_count": 162,
     "metadata": {},
     "output_type": "execute_result"
    }
   ],
   "source": [
    "print(a)\n",
    "a[1]"
   ]
  },
  {
   "cell_type": "code",
   "execution_count": 163,
   "metadata": {},
   "outputs": [
    {
     "name": "stdout",
     "output_type": "stream",
     "text": [
      "[[1 2 3]\n",
      " [4 5 6]]\n",
      "\n",
      " 6\n"
     ]
    },
    {
     "data": {
      "text/plain": [
       "array([3, 6])"
      ]
     },
     "execution_count": 163,
     "metadata": {},
     "output_type": "execute_result"
    }
   ],
   "source": [
    "print(d)\n",
    "print('\\n', d[1, 2])\n",
    "d[:, 2]\n",
    "#d[1,:] == d[1]"
   ]
  },
  {
   "cell_type": "code",
   "execution_count": 169,
   "metadata": {},
   "outputs": [
    {
     "data": {
      "text/plain": [
       "array([[1, 2, 1],\n",
       "       [4, 5, 1]])"
      ]
     },
     "execution_count": 169,
     "metadata": {},
     "output_type": "execute_result"
    }
   ],
   "source": [
    "d[:, 2] = 1\n",
    "d"
   ]
  },
  {
   "cell_type": "code",
   "execution_count": 174,
   "metadata": {},
   "outputs": [
    {
     "name": "stdout",
     "output_type": "stream",
     "text": [
      "False\n",
      "True\n"
     ]
    },
    {
     "data": {
      "text/plain": [
       "array([1, 2, 4])"
      ]
     },
     "execution_count": 174,
     "metadata": {},
     "output_type": "execute_result"
    }
   ],
   "source": [
    "print(a[2] == 4)\n",
    "a[2] = 4\n",
    "print(a[2] == 4)\n",
    "a"
   ]
  },
  {
   "cell_type": "code",
   "execution_count": 177,
   "metadata": {},
   "outputs": [],
   "source": [
    "d[1, 1] = 0"
   ]
  },
  {
   "cell_type": "code",
   "execution_count": 178,
   "metadata": {},
   "outputs": [
    {
     "data": {
      "text/plain": [
       "array([[1, 2, 1],\n",
       "       [4, 0, 1]])"
      ]
     },
     "execution_count": 178,
     "metadata": {},
     "output_type": "execute_result"
    }
   ],
   "source": [
    "d"
   ]
  },
  {
   "cell_type": "code",
   "execution_count": 189,
   "metadata": {},
   "outputs": [
    {
     "data": {
      "text/plain": [
       "array([['A', 'B', 'C'],\n",
       "       ['D', 'E', 'F'],\n",
       "       ['1', '2', '3']], dtype='<U1')"
      ]
     },
     "execution_count": 189,
     "metadata": {},
     "output_type": "execute_result"
    }
   ],
   "source": [
    "e"
   ]
  },
  {
   "cell_type": "code",
   "execution_count": 205,
   "metadata": {},
   "outputs": [
    {
     "data": {
      "text/plain": [
       "array(['B', 'E', '2'], dtype='<U1')"
      ]
     },
     "execution_count": 205,
     "metadata": {},
     "output_type": "execute_result"
    }
   ],
   "source": [
    "e[:,1]"
   ]
  },
  {
   "cell_type": "code",
   "execution_count": 248,
   "metadata": {},
   "outputs": [
    {
     "data": {
      "text/plain": [
       "array([[['A', 'B', 'C'],\n",
       "        ['D', 'E', 'F']],\n",
       "\n",
       "       [['1', '2', '3'],\n",
       "        ['4', '5', '6']],\n",
       "\n",
       "       [['G', '7', '8'],\n",
       "        ['H', '9', '10']],\n",
       "\n",
       "       [['11', '12', '13'],\n",
       "        ['14', '15', '16']]], dtype='<U2')"
      ]
     },
     "execution_count": 248,
     "metadata": {},
     "output_type": "execute_result"
    }
   ],
   "source": [
    "f"
   ]
  },
  {
   "cell_type": "code",
   "execution_count": 268,
   "metadata": {},
   "outputs": [
    {
     "data": {
      "text/plain": [
       "'A'"
      ]
     },
     "execution_count": 268,
     "metadata": {},
     "output_type": "execute_result"
    }
   ],
   "source": [
    "f[0,0,0]"
   ]
  },
  {
   "cell_type": "code",
   "execution_count": 269,
   "metadata": {},
   "outputs": [
    {
     "data": {
      "text/plain": [
       "array(['13', '16'], dtype='<U2')"
      ]
     },
     "execution_count": 269,
     "metadata": {},
     "output_type": "execute_result"
    }
   ],
   "source": [
    "f[3, :, 2]"
   ]
  },
  {
   "cell_type": "code",
   "execution_count": 270,
   "metadata": {},
   "outputs": [
    {
     "data": {
      "text/plain": [
       "array([['C', 'F'],\n",
       "       ['3', '6'],\n",
       "       ['8', '10'],\n",
       "       ['13', '16']], dtype='<U2')"
      ]
     },
     "execution_count": 270,
     "metadata": {},
     "output_type": "execute_result"
    }
   ],
   "source": [
    "f[:,:,2]"
   ]
  },
  {
   "cell_type": "code",
   "execution_count": 288,
   "metadata": {},
   "outputs": [
    {
     "name": "stdout",
     "output_type": "stream",
     "text": [
      "[[['A' '96' 'A']\n",
      "  ['D' '96' 'D']]\n",
      "\n",
      " [['1' '96' '1']\n",
      "  ['4' '96' '4']]\n",
      "\n",
      " [['G' '96' 'G']\n",
      "  ['H' '96' 'H']]\n",
      "\n",
      " [['11' '96' '11']\n",
      "  ['14' '96' '14']]]\n"
     ]
    }
   ],
   "source": [
    "f[:, :, 1] = 6 + 90\n",
    "print(f)"
   ]
  },
  {
   "cell_type": "code",
   "execution_count": 287,
   "metadata": {},
   "outputs": [
    {
     "name": "stdout",
     "output_type": "stream",
     "text": [
      "[[['A' 'ND' 'A']\n",
      "  ['D' 'ND' 'D']]\n",
      "\n",
      " [['1' 'ND' '1']\n",
      "  ['4' 'ND' '4']]\n",
      "\n",
      " [['G' 'ND' 'G']\n",
      "  ['H' 'ND' 'H']]\n",
      "\n",
      " [['11' 'ND' '11']\n",
      "  ['14' 'ND' '14']]]\n"
     ]
    }
   ],
   "source": [
    "f[:,:, 1+1] = f[:,:,0]\n",
    "print(f)"
   ]
  },
  {
   "cell_type": "code",
   "execution_count": 427,
   "metadata": {},
   "outputs": [],
   "source": [
    "f[3,1,1] = f[0, 0, 0] + f[1, 1, 0]"
   ]
  },
  {
   "cell_type": "code",
   "execution_count": 428,
   "metadata": {},
   "outputs": [
    {
     "data": {
      "text/plain": [
       "array([[['2', '96', '1'],\n",
       "        ['2', '96', '1']],\n",
       "\n",
       "       [['1', '96', '1'],\n",
       "        ['4', '96', '1']],\n",
       "\n",
       "       [['5', '96', '1'],\n",
       "        ['5', '96', '1']],\n",
       "\n",
       "       [['11', '96', '1'],\n",
       "        ['14', '24', '1']]], dtype='<U2')"
      ]
     },
     "execution_count": 428,
     "metadata": {},
     "output_type": "execute_result"
    }
   ],
   "source": [
    "f"
   ]
  },
  {
   "cell_type": "code",
   "execution_count": 429,
   "metadata": {},
   "outputs": [
    {
     "data": {
      "text/plain": [
       "'24'"
      ]
     },
     "execution_count": 429,
     "metadata": {},
     "output_type": "execute_result"
    }
   ],
   "source": [
    "f[3,1,1]"
   ]
  },
  {
   "cell_type": "code",
   "execution_count": 426,
   "metadata": {},
   "outputs": [
    {
     "data": {
      "text/plain": [
       "'2'"
      ]
     },
     "execution_count": 426,
     "metadata": {},
     "output_type": "execute_result"
    }
   ],
   "source": [
    "f[0,0,0]"
   ]
  },
  {
   "cell_type": "code",
   "execution_count": 423,
   "metadata": {},
   "outputs": [
    {
     "data": {
      "text/plain": [
       "'4'"
      ]
     },
     "execution_count": 423,
     "metadata": {},
     "output_type": "execute_result"
    }
   ],
   "source": [
    "f[1, 1, 0]"
   ]
  },
  {
   "cell_type": "markdown",
   "metadata": {},
   "source": [
    "# Different Types of Arrays"
   ]
  },
  {
   "cell_type": "code",
   "execution_count": 431,
   "metadata": {},
   "outputs": [],
   "source": [
    "# 0s Matrix"
   ]
  },
  {
   "cell_type": "code",
   "execution_count": 432,
   "metadata": {},
   "outputs": [],
   "source": [
    "#23:15"
   ]
  }
 ],
 "metadata": {
  "kernelspec": {
   "display_name": "Python 3",
   "language": "python",
   "name": "python3"
  },
  "language_info": {
   "codemirror_mode": {
    "name": "ipython",
    "version": 3
   },
   "file_extension": ".py",
   "mimetype": "text/x-python",
   "name": "python",
   "nbconvert_exporter": "python",
   "pygments_lexer": "ipython3",
   "version": "3.8.5"
  }
 },
 "nbformat": 4,
 "nbformat_minor": 4
}
