{
 "cells": [
  {
   "cell_type": "markdown",
   "metadata": {},
   "source": [
    "# Movies Recomendation "
   ]
  },
  {
   "cell_type": "code",
   "execution_count": 1,
   "metadata": {},
   "outputs": [],
   "source": [
    "# Importando bibliotecas que serão utilizadas\n",
    "\n",
    "import pandas as pd\n",
    "import numpy as np \n",
    "import matplotlib.pyplot as plt"
   ]
  },
  {
   "cell_type": "code",
   "execution_count": 2,
   "metadata": {},
   "outputs": [],
   "source": [
    "# Importando dataframes que serão utilizados\n",
    "\n",
    "df_movies = pd.read_csv(r\"G:\\Meu Drive\\My Repositories\\Datasets_for_data_science\\df's-db's-ds's\\databases\\datasets\\ml-latest-small\\\\movies.csv\")\n",
    "df_ratings = pd.read_csv(r\"G:\\Meu Drive\\My Repositories\\Datasets_for_data_science\\df's-db's-ds's\\databases\\datasets\\ml-latest-small\\\\ratings.csv\")\n",
    "#df_tags = pd.read_csv(r\"G:\\Meu Drive\\My Repositories\\Datasets_for_data_science\\df's-db's-ds's\\databases\\datasets\\ml-latest-small\\\\tags.csv\")"
   ]
  },
  {
   "cell_type": "code",
   "execution_count": 3,
   "metadata": {},
   "outputs": [],
   "source": [
    "# Alterando o dataframe para melhor uso \n",
    "\n",
    "df_movies = df_movies.set_index(df_movies['movieId'])\n",
    "df_movies = df_movies.drop(columns = ['movieId'])\n",
    "df_movies['mean_ratings'] = df_ratings.groupby('movieId').mean()['rating']\n",
    "df_movies['total_rates'] = df_ratings['movieId'].value_counts()\n",
    "\n",
    "df_ratings = df_ratings.set_index('userId')"
   ]
  },
  {
   "cell_type": "code",
   "execution_count": 4,
   "metadata": {},
   "outputs": [],
   "source": [
    "# Função para calcular a distância entre dois pontos\n",
    "\n",
    "def vetor_dist(a,b):\n",
    "  return np.linalg.norm(a - b)"
   ]
  },
  {
   "cell_type": "code",
   "execution_count": 5,
   "metadata": {},
   "outputs": [],
   "source": [
    "# Função para capturar as notas de um determinado usuário\n",
    "\n",
    "def user_grade(user_id):\n",
    "    user_grades = df_ratings.query(f'userId == {user_id}')\n",
    "    user_grades = user_grades[['movieId', 'rating']].set_index('movieId')\n",
    "\n",
    "    return user_grades"
   ]
  },
  {
   "cell_type": "code",
   "execution_count": 5,
   "metadata": {},
   "outputs": [
    {
     "ename": "KeyboardInterrupt",
     "evalue": "",
     "output_type": "error",
     "traceback": [
      "\u001b[1;31m---------------------------------------------------------------------------\u001b[0m",
      "\u001b[1;31mKeyboardInterrupt\u001b[0m                         Traceback (most recent call last)",
      "\u001b[1;32m~\\anaconda3\\lib\\site-packages\\IPython\\core\\async_helpers.py\u001b[0m in \u001b[0;36m_pseudo_sync_runner\u001b[1;34m(coro)\u001b[0m\n\u001b[0;32m     66\u001b[0m     \"\"\"\n\u001b[0;32m     67\u001b[0m     \u001b[1;32mtry\u001b[0m\u001b[1;33m:\u001b[0m\u001b[1;33m\u001b[0m\u001b[1;33m\u001b[0m\u001b[0m\n\u001b[1;32m---> 68\u001b[1;33m         \u001b[0mcoro\u001b[0m\u001b[1;33m.\u001b[0m\u001b[0msend\u001b[0m\u001b[1;33m(\u001b[0m\u001b[1;32mNone\u001b[0m\u001b[1;33m)\u001b[0m\u001b[1;33m\u001b[0m\u001b[1;33m\u001b[0m\u001b[0m\n\u001b[0m\u001b[0;32m     69\u001b[0m     \u001b[1;32mexcept\u001b[0m \u001b[0mStopIteration\u001b[0m \u001b[1;32mas\u001b[0m \u001b[0mexc\u001b[0m\u001b[1;33m:\u001b[0m\u001b[1;33m\u001b[0m\u001b[1;33m\u001b[0m\u001b[0m\n\u001b[0;32m     70\u001b[0m         \u001b[1;32mreturn\u001b[0m \u001b[0mexc\u001b[0m\u001b[1;33m.\u001b[0m\u001b[0mvalue\u001b[0m\u001b[1;33m\u001b[0m\u001b[1;33m\u001b[0m\u001b[0m\n",
      "\u001b[1;32m~\\anaconda3\\lib\\site-packages\\IPython\\core\\interactiveshell.py\u001b[0m in \u001b[0;36mrun_cell_async\u001b[1;34m(self, raw_cell, store_history, silent, shell_futures, transformed_cell, preprocessing_exc_tuple)\u001b[0m\n\u001b[0;32m   3093\u001b[0m         \u001b[1;31m# Store raw and processed history\u001b[0m\u001b[1;33m\u001b[0m\u001b[1;33m\u001b[0m\u001b[1;33m\u001b[0m\u001b[0m\n\u001b[0;32m   3094\u001b[0m         \u001b[1;32mif\u001b[0m \u001b[0mstore_history\u001b[0m\u001b[1;33m:\u001b[0m\u001b[1;33m\u001b[0m\u001b[1;33m\u001b[0m\u001b[0m\n\u001b[1;32m-> 3095\u001b[1;33m             self.history_manager.store_inputs(self.execution_count,\n\u001b[0m\u001b[0;32m   3096\u001b[0m                                               cell, raw_cell)\n\u001b[0;32m   3097\u001b[0m         \u001b[1;32mif\u001b[0m \u001b[1;32mnot\u001b[0m \u001b[0msilent\u001b[0m\u001b[1;33m:\u001b[0m\u001b[1;33m\u001b[0m\u001b[1;33m\u001b[0m\u001b[0m\n",
      "\u001b[1;32m~\\anaconda3\\lib\\site-packages\\IPython\\core\\history.py\u001b[0m in \u001b[0;36mstore_inputs\u001b[1;34m(self, line_num, source, source_raw)\u001b[0m\n\u001b[0;32m    717\u001b[0m         \u001b[0mself\u001b[0m\u001b[1;33m.\u001b[0m\u001b[0minput_hist_raw\u001b[0m\u001b[1;33m.\u001b[0m\u001b[0mappend\u001b[0m\u001b[1;33m(\u001b[0m\u001b[0msource_raw\u001b[0m\u001b[1;33m)\u001b[0m\u001b[1;33m\u001b[0m\u001b[1;33m\u001b[0m\u001b[0m\n\u001b[0;32m    718\u001b[0m \u001b[1;33m\u001b[0m\u001b[0m\n\u001b[1;32m--> 719\u001b[1;33m         \u001b[1;32mwith\u001b[0m \u001b[0mself\u001b[0m\u001b[1;33m.\u001b[0m\u001b[0mdb_input_cache_lock\u001b[0m\u001b[1;33m:\u001b[0m\u001b[1;33m\u001b[0m\u001b[1;33m\u001b[0m\u001b[0m\n\u001b[0m\u001b[0;32m    720\u001b[0m             \u001b[0mself\u001b[0m\u001b[1;33m.\u001b[0m\u001b[0mdb_input_cache\u001b[0m\u001b[1;33m.\u001b[0m\u001b[0mappend\u001b[0m\u001b[1;33m(\u001b[0m\u001b[1;33m(\u001b[0m\u001b[0mline_num\u001b[0m\u001b[1;33m,\u001b[0m \u001b[0msource\u001b[0m\u001b[1;33m,\u001b[0m \u001b[0msource_raw\u001b[0m\u001b[1;33m)\u001b[0m\u001b[1;33m)\u001b[0m\u001b[1;33m\u001b[0m\u001b[1;33m\u001b[0m\u001b[0m\n\u001b[0;32m    721\u001b[0m             \u001b[1;31m# Trigger to flush cache and write to DB.\u001b[0m\u001b[1;33m\u001b[0m\u001b[1;33m\u001b[0m\u001b[1;33m\u001b[0m\u001b[0m\n",
      "\u001b[1;31mKeyboardInterrupt\u001b[0m: "
     ]
    }
   ],
   "source": [
    "# Função para calcular a distância entre dois usuários\n",
    "\n",
    "def users_dist(user_id_01, user_id_02, min = 5):\n",
    "  user_grade_01 = user_grade(user_id_01)\n",
    "  user_grade_02 = user_grade(user_id_02)\n",
    "  grade = user_grade_01.join(user_grade_02, lsuffix = f'_{user_id_01}', rsuffix = f'_{user_id_02}').dropna()\n",
    "  dist = vetor_dist(grade[f'rating_{user_id_01}'], grade[f'rating_{user_id_02}'])\n",
    "  \n",
    "  if (len(grade) < min):\n",
    "    return [user_id_01, user_id_02, None]\n",
    "    \n",
    "  return [user_id_01, user_id_02, dist]"
   ]
  },
  {
   "cell_type": "code",
   "execution_count": null,
   "metadata": {},
   "outputs": [],
   "source": [
    "# Função para calcular a distância de um usuário com todos os outros\n",
    "\n",
    "def all_users_dist(user_id):\n",
    "  users = df_ratings.index.unique()\n",
    "  dists = [users_dist(user_id, user) for user in users]\n",
    "  df_users_dist = pd.DataFrame(dists, columns = ['Principal Id', 'Index', 'Distance']).set_index('Index')\n",
    "  df_users_dist = df_users_dist.drop(1)\n",
    "  \n",
    "  return df_users_dist"
   ]
  },
  {
   "cell_type": "code",
   "execution_count": null,
   "metadata": {},
   "outputs": [
    {
     "data": {
      "text/html": [
       "<div>\n",
       "<style scoped>\n",
       "    .dataframe tbody tr th:only-of-type {\n",
       "        vertical-align: middle;\n",
       "    }\n",
       "\n",
       "    .dataframe tbody tr th {\n",
       "        vertical-align: top;\n",
       "    }\n",
       "\n",
       "    .dataframe thead th {\n",
       "        text-align: right;\n",
       "    }\n",
       "</style>\n",
       "<table border=\"1\" class=\"dataframe\">\n",
       "  <thead>\n",
       "    <tr style=\"text-align: right;\">\n",
       "      <th></th>\n",
       "      <th>Principal Id</th>\n",
       "      <th>Distance</th>\n",
       "    </tr>\n",
       "    <tr>\n",
       "      <th>Index</th>\n",
       "      <th></th>\n",
       "      <th></th>\n",
       "    </tr>\n",
       "  </thead>\n",
       "  <tbody>\n",
       "    <tr>\n",
       "      <th>2</th>\n",
       "      <td>1</td>\n",
       "      <td>NaN</td>\n",
       "    </tr>\n",
       "    <tr>\n",
       "      <th>3</th>\n",
       "      <td>1</td>\n",
       "      <td>8.200610</td>\n",
       "    </tr>\n",
       "    <tr>\n",
       "      <th>4</th>\n",
       "      <td>1</td>\n",
       "      <td>11.135529</td>\n",
       "    </tr>\n",
       "    <tr>\n",
       "      <th>5</th>\n",
       "      <td>1</td>\n",
       "      <td>3.741657</td>\n",
       "    </tr>\n",
       "    <tr>\n",
       "      <th>6</th>\n",
       "      <td>1</td>\n",
       "      <td>8.602325</td>\n",
       "    </tr>\n",
       "  </tbody>\n",
       "</table>\n",
       "</div>"
      ],
      "text/plain": [
       "       Principal Id   Distance\n",
       "Index                         \n",
       "2                 1        NaN\n",
       "3                 1   8.200610\n",
       "4                 1  11.135529\n",
       "5                 1   3.741657\n",
       "6                 1   8.602325"
      ]
     },
     "execution_count": 8,
     "metadata": {},
     "output_type": "execute_result"
    }
   ],
   "source": [
    "all_users_dist(1).head()"
   ]
  },
  {
   "cell_type": "code",
   "execution_count": null,
   "metadata": {},
   "outputs": [],
   "source": [
    "# Função para indicar os usuários mais proximos de um usuário determinado \n",
    "\n",
    "def most_near(user_id):\n",
    "  df_users_dist = all_users_dist(user_id)\n",
    "  near = df_users_dist.sort_values('Distance', ascending = True).dropna()\n",
    "\n",
    "  return near"
   ]
  },
  {
   "cell_type": "code",
   "execution_count": null,
   "metadata": {},
   "outputs": [
    {
     "data": {
      "text/html": [
       "<div>\n",
       "<style scoped>\n",
       "    .dataframe tbody tr th:only-of-type {\n",
       "        vertical-align: middle;\n",
       "    }\n",
       "\n",
       "    .dataframe tbody tr th {\n",
       "        vertical-align: top;\n",
       "    }\n",
       "\n",
       "    .dataframe thead th {\n",
       "        text-align: right;\n",
       "    }\n",
       "</style>\n",
       "<table border=\"1\" class=\"dataframe\">\n",
       "  <thead>\n",
       "    <tr style=\"text-align: right;\">\n",
       "      <th></th>\n",
       "      <th>Principal Id</th>\n",
       "      <th>Distance</th>\n",
       "    </tr>\n",
       "    <tr>\n",
       "      <th>Index</th>\n",
       "      <th></th>\n",
       "      <th></th>\n",
       "    </tr>\n",
       "  </thead>\n",
       "  <tbody>\n",
       "    <tr>\n",
       "      <th>77</th>\n",
       "      <td>1</td>\n",
       "      <td>0.000000</td>\n",
       "    </tr>\n",
       "    <tr>\n",
       "      <th>511</th>\n",
       "      <td>1</td>\n",
       "      <td>0.500000</td>\n",
       "    </tr>\n",
       "    <tr>\n",
       "      <th>366</th>\n",
       "      <td>1</td>\n",
       "      <td>0.707107</td>\n",
       "    </tr>\n",
       "    <tr>\n",
       "      <th>9</th>\n",
       "      <td>1</td>\n",
       "      <td>1.000000</td>\n",
       "    </tr>\n",
       "    <tr>\n",
       "      <th>49</th>\n",
       "      <td>1</td>\n",
       "      <td>1.000000</td>\n",
       "    </tr>\n",
       "  </tbody>\n",
       "</table>\n",
       "</div>"
      ],
      "text/plain": [
       "       Principal Id  Distance\n",
       "Index                        \n",
       "77                1  0.000000\n",
       "511               1  0.500000\n",
       "366               1  0.707107\n",
       "9                 1  1.000000\n",
       "49                1  1.000000"
      ]
     },
     "execution_count": 10,
     "metadata": {},
     "output_type": "execute_result"
    }
   ],
   "source": [
    "most_near(1).head()"
   ]
  },
  {
   "cell_type": "code",
   "execution_count": null,
   "metadata": {},
   "outputs": [],
   "source": [
    "# Função para recomendar filmes baseado nos usuários mais proximos \n",
    "\n",
    "def recommend_movies(user_id, k = 100, m = 10):\n",
    "\n",
    "    near_users = most_near(user_id).head(k).index.values\n",
    "\n",
    "    near_user_data = df_ratings.loc[user_id].sort_values('rating', ascending = False).head(m).drop(columns= ['timestamp']).set_index('movieId')\n",
    "    near_user_data = {'user': user_id, 'movies': [i for i in near_user_data.index.values], 'rates': [r for r in near_user_data.rating.values]}\n",
    "    data = pd.DataFrame().from_dict(near_user_data).set_index('user')\n",
    "\n",
    "    for c in near_users:\n",
    "        if c == near_users[0]:\n",
    "            pass\n",
    "\n",
    "        near_user_data = df_ratings.loc[c].sort_values('rating', ascending = False).head(m).drop(columns= ['timestamp']).set_index('movieId')\n",
    "            \n",
    "        near_user_data = {'user': c, 'movies': [i for i in near_user_data.index.values], 'rates': [r for r in near_user_data.rating.values]}\n",
    "\n",
    "        near_user_data = pd.DataFrame().from_dict(near_user_data).set_index('user')\n",
    "            \n",
    "        data = pd.concat([data, near_user_data])\n",
    "\n",
    "    most_recommend_df = data.movies.value_counts().to_frame('rates_counts').sort_values('rates_counts', ascending = False)\n",
    "\n",
    "    for c in user_grade(user_id).index.values:\n",
    "        if c in most_recommend_df.index.values:\n",
    "            most_recommend_df = most_recommend_df.drop(c)\n",
    "\n",
    "    most_recommend_indexs = [k for k in most_recommend_df.index.values]\n",
    "    most_recommend_df['mean_rates'] = [data.loc[data['movies'] == c].rates.mean() for c in most_recommend_indexs]\n",
    "\n",
    "    most_recommend_movies = [df_movies.loc[i].title for i in most_recommend_indexs]\n",
    "    most_recommend_df['movies'] = most_recommend_movies\n",
    "\n",
    "    most_recommend_df = most_recommend_df.sort_values(['rates_counts', 'mean_rates'], ascending = False).head(m)\n",
    "\n",
    "    recommend_movies = [m for m in most_recommend_df.movies]\n",
    "\n",
    "    return recommend_movies"
   ]
  },
  {
   "cell_type": "code",
   "execution_count": null,
   "metadata": {},
   "outputs": [],
   "source": [
    "# Simulando quais as recomendações para um usuário novo\n",
    "\n",
    "data = [102084, 5],[153, 4],[3793, 4],[5349, 5],[33794, 5],[60069, 4],[2706, 4],[723998, 4.5],[59315, 5]\n",
    "\n",
    "def new_user(data):\n",
    "\n",
    "    index = df_ratings.index.max()+1\n",
    "    new_user = pd.DataFrame(data, columns=['movieId', 'rating'])\n",
    "    new_user['userId'] = index\n",
    "    new_user = new_user.set_index('userId')\n",
    "\n",
    "    new_df_ratings = pd.concat([df_ratings, new_user])\n",
    "\n",
    "    return new_df_ratings"
   ]
  },
  {
   "cell_type": "code",
   "execution_count": null,
   "metadata": {},
   "outputs": [
    {
     "data": {
      "text/html": [
       "<div>\n",
       "<style scoped>\n",
       "    .dataframe tbody tr th:only-of-type {\n",
       "        vertical-align: middle;\n",
       "    }\n",
       "\n",
       "    .dataframe tbody tr th {\n",
       "        vertical-align: top;\n",
       "    }\n",
       "\n",
       "    .dataframe thead th {\n",
       "        text-align: right;\n",
       "    }\n",
       "</style>\n",
       "<table border=\"1\" class=\"dataframe\">\n",
       "  <thead>\n",
       "    <tr style=\"text-align: right;\">\n",
       "      <th></th>\n",
       "      <th>movieId</th>\n",
       "      <th>rating</th>\n",
       "      <th>timestamp</th>\n",
       "    </tr>\n",
       "    <tr>\n",
       "      <th>userId</th>\n",
       "      <th></th>\n",
       "      <th></th>\n",
       "      <th></th>\n",
       "    </tr>\n",
       "  </thead>\n",
       "  <tbody>\n",
       "    <tr>\n",
       "      <th>610</th>\n",
       "      <td>166534</td>\n",
       "      <td>4.0</td>\n",
       "      <td>1493848402</td>\n",
       "    </tr>\n",
       "    <tr>\n",
       "      <th>610</th>\n",
       "      <td>168248</td>\n",
       "      <td>5.0</td>\n",
       "      <td>1493850091</td>\n",
       "    </tr>\n",
       "    <tr>\n",
       "      <th>610</th>\n",
       "      <td>168250</td>\n",
       "      <td>5.0</td>\n",
       "      <td>1494273047</td>\n",
       "    </tr>\n",
       "    <tr>\n",
       "      <th>610</th>\n",
       "      <td>168252</td>\n",
       "      <td>5.0</td>\n",
       "      <td>1493846352</td>\n",
       "    </tr>\n",
       "    <tr>\n",
       "      <th>610</th>\n",
       "      <td>170875</td>\n",
       "      <td>3.0</td>\n",
       "      <td>1493846415</td>\n",
       "    </tr>\n",
       "  </tbody>\n",
       "</table>\n",
       "</div>"
      ],
      "text/plain": [
       "        movieId  rating   timestamp\n",
       "userId                             \n",
       "610      166534     4.0  1493848402\n",
       "610      168248     5.0  1493850091\n",
       "610      168250     5.0  1494273047\n",
       "610      168252     5.0  1493846352\n",
       "610      170875     3.0  1493846415"
      ]
     },
     "execution_count": 13,
     "metadata": {},
     "output_type": "execute_result"
    }
   ],
   "source": [
    "df_ratings.tail()"
   ]
  },
  {
   "cell_type": "code",
   "execution_count": null,
   "metadata": {},
   "outputs": [
    {
     "data": {
      "text/html": [
       "<div>\n",
       "<style scoped>\n",
       "    .dataframe tbody tr th:only-of-type {\n",
       "        vertical-align: middle;\n",
       "    }\n",
       "\n",
       "    .dataframe tbody tr th {\n",
       "        vertical-align: top;\n",
       "    }\n",
       "\n",
       "    .dataframe thead th {\n",
       "        text-align: right;\n",
       "    }\n",
       "</style>\n",
       "<table border=\"1\" class=\"dataframe\">\n",
       "  <thead>\n",
       "    <tr style=\"text-align: right;\">\n",
       "      <th></th>\n",
       "      <th>movieId</th>\n",
       "      <th>rating</th>\n",
       "      <th>timestamp</th>\n",
       "    </tr>\n",
       "    <tr>\n",
       "      <th>userId</th>\n",
       "      <th></th>\n",
       "      <th></th>\n",
       "      <th></th>\n",
       "    </tr>\n",
       "  </thead>\n",
       "  <tbody>\n",
       "    <tr>\n",
       "      <th>611</th>\n",
       "      <td>33794</td>\n",
       "      <td>5.0</td>\n",
       "      <td>NaN</td>\n",
       "    </tr>\n",
       "    <tr>\n",
       "      <th>611</th>\n",
       "      <td>60069</td>\n",
       "      <td>4.0</td>\n",
       "      <td>NaN</td>\n",
       "    </tr>\n",
       "    <tr>\n",
       "      <th>611</th>\n",
       "      <td>2706</td>\n",
       "      <td>4.0</td>\n",
       "      <td>NaN</td>\n",
       "    </tr>\n",
       "    <tr>\n",
       "      <th>611</th>\n",
       "      <td>723998</td>\n",
       "      <td>4.5</td>\n",
       "      <td>NaN</td>\n",
       "    </tr>\n",
       "    <tr>\n",
       "      <th>611</th>\n",
       "      <td>59315</td>\n",
       "      <td>5.0</td>\n",
       "      <td>NaN</td>\n",
       "    </tr>\n",
       "  </tbody>\n",
       "</table>\n",
       "</div>"
      ],
      "text/plain": [
       "        movieId  rating  timestamp\n",
       "userId                            \n",
       "611       33794     5.0        NaN\n",
       "611       60069     4.0        NaN\n",
       "611        2706     4.0        NaN\n",
       "611      723998     4.5        NaN\n",
       "611       59315     5.0        NaN"
      ]
     },
     "execution_count": 14,
     "metadata": {},
     "output_type": "execute_result"
    }
   ],
   "source": [
    "df_ratings = new_user(data)\n",
    "df_ratings.tail()"
   ]
  },
  {
   "cell_type": "code",
   "execution_count": null,
   "metadata": {},
   "outputs": [
    {
     "data": {
      "text/plain": [
       "['Toy Story (1995)',\n",
       " 'Star Wars: Episode V - The Empire Strikes Back (1980)',\n",
       " 'Dark Knight, The (2008)',\n",
       " 'Shawshank Redemption, The (1994)',\n",
       " 'Raiders of the Lost Ark (Indiana Jones and the Raiders of the Lost Ark) (1981)',\n",
       " 'Lord of the Rings: The Fellowship of the Ring, The (2001)',\n",
       " 'American History X (1998)',\n",
       " 'Fight Club (1999)',\n",
       " 'Back to the Future (1985)',\n",
       " 'Monty Python and the Holy Grail (1975)']"
      ]
     },
     "execution_count": 15,
     "metadata": {},
     "output_type": "execute_result"
    }
   ],
   "source": [
    "recommend_movies(611)"
   ]
  },
  {
   "cell_type": "code",
   "execution_count": null,
   "metadata": {},
   "outputs": [],
   "source": []
  },
  {
   "cell_type": "markdown",
   "metadata": {},
   "source": [
    "# MultiLabel"
   ]
  },
  {
   "cell_type": "code",
   "execution_count": 29,
   "metadata": {},
   "outputs": [],
   "source": [
    "# Importando bibliotecas que serão utilizadas \n",
    "\n",
    "import pandas as pd\n",
    "import numpy as np \n",
    "\n",
    "from string import punctuation\n",
    "\n",
    "from sklearn.model_selection import train_test_split\n",
    "from sklearn.feature_extraction.text import TfidfVectorizer\n",
    "from sklearn.linear_model import LogisticRegression\n",
    "from sklearn.multiclass import OneVsRestClassifier\n",
    "from sklearn.metrics import accuracy_score, classification_report, hamming_loss\n",
    "\n",
    "from skmultilearn.problem_transform import ClassifierChain\n",
    "from skmultilearn.problem_transform import BinaryRelevance\n",
    "from skmultilearn.adapt import MLkNN\n",
    "# Cursores\n",
    "\n",
    "SEED = 13\n",
    "np.random.seed(SEED)\n",
    "\n",
    "# Modelos  Sklearn\n",
    "\n",
    "LogisticRegression = LogisticRegression(solver = 'lbfgs')\n",
    "OneVsRestClassifier = OneVsRestClassifier(LogisticRegression)\n",
    "vetorizer = TfidfVectorizer(max_features = 5000, max_df = 0.85)\n",
    "\n",
    "# Modelo Scikit-Multilearn\n",
    "\n",
    "ClassifierChain = ClassifierChain(LogisticRegression)\n",
    "BinaryRelevance =  BinaryRelevance(LogisticRegression)\n",
    "MLkNN = MLkNN()"
   ]
  },
  {
   "cell_type": "code",
   "execution_count": 2,
   "metadata": {},
   "outputs": [],
   "source": [
    "# Importando dataframes que serão utilizados \n",
    " \n",
    "df_questions = pd.read_csv(r\"G:\\Meu Drive\\My Repositories\\Datasets_for_data_science\\df's-db's-ds's\\databases\\datasets\\\\stackoverflow_perguntas.csv\")"
   ]
  },
  {
   "cell_type": "code",
   "execution_count": 3,
   "metadata": {},
   "outputs": [],
   "source": [
    "# Alterando dataframe para melhor utilização \n",
    "\n",
    "rename_columns = {\n",
    "    'Perguntas': 'questions',\n",
    "    'Tags': 'tags'\n",
    "}\n",
    "\n",
    "df_questions = df_questions.rename(columns = rename_columns)"
   ]
  },
  {
   "cell_type": "code",
   "execution_count": 4,
   "metadata": {},
   "outputs": [],
   "source": [
    "# Criando um vetor com todos os labels possiveis para o categorizador\n",
    "\n",
    "def catch_unique(label):\n",
    "    labels_unique = []\n",
    "\n",
    "    for tags in label.unique():\n",
    "        for tag in tags.split():\n",
    "            if tag not in labels_unique:\n",
    "                labels_unique.append(tag.lower())\n",
    "\n",
    "    return labels_unique\n",
    "    \n",
    "labels_unique = catch_unique(df_questions.tags)"
   ]
  },
  {
   "cell_type": "code",
   "execution_count": 5,
   "metadata": {},
   "outputs": [],
   "source": [
    "# Criando uma coluna para cada label possível no dataframe\n",
    "\n",
    "def column_label(df, label):\n",
    "    labels_unique = catch_unique(label)\n",
    "\n",
    "    for tag in labels_unique:\n",
    "        temp = []\n",
    "        for line in label:\n",
    "            if tag in line: temp.append(1)\n",
    "            else: temp.append(0)\n",
    "        df[tag] = temp\n",
    "\n",
    "column_label(df_questions, df_questions.tags)"
   ]
  },
  {
   "cell_type": "code",
   "execution_count": 6,
   "metadata": {},
   "outputs": [],
   "source": [
    "lista_zip_tags = list(zip(df_questions[labels_unique[0]], df_questions[labels_unique[1]], df_questions[labels_unique[2]], df_questions[labels_unique[3]]))\n",
    "\n",
    "df_questions[\"labels\"] = lista_zip_tags"
   ]
  },
  {
   "cell_type": "code",
   "execution_count": 7,
   "metadata": {},
   "outputs": [],
   "source": [
    "# Separando dados de treino e teste para o nosso modelo de classificação \n",
    "\n",
    "train_x, test_x, train_y, test_y = train_test_split(df_questions.questions, df_questions.labels, test_size = 0.3, stratify = df_questions.labels)\n",
    "\n",
    "#y_true\n",
    "\n",
    "y_true = test_y\n",
    "\n",
    "# Vetorizando o X para que o modelo possa treinar matemáticamente\n",
    "\n",
    "vetorizer.fit(df_questions.questions)\n",
    "\n",
    "train_x = vetorizer.transform(train_x)\n",
    "test_x = vetorizer.transform(test_x)\n",
    "\n",
    "# Transformando em array numpy para que o modelo possa compreender as tags\n",
    "\n",
    "train_y = np.asarray(list(train_y))\n",
    "test_y = np.asarray(list(test_y))"
   ]
  },
  {
   "cell_type": "code",
   "execution_count": 8,
   "metadata": {},
   "outputs": [
    {
     "name": "stderr",
     "output_type": "stream",
     "text": [
      "C:\\Users\\guilh\\anaconda3\\lib\\site-packages\\sklearn\\metrics\\_classification.py:1245: UndefinedMetricWarning: Precision and F-score are ill-defined and being set to 0.0 in samples with no predicted labels. Use `zero_division` parameter to control this behavior.\n",
      "  _warn_prf(average, modifier, msg_start, len(result))\n"
     ]
    }
   ],
   "source": [
    "## OneVsRestClassiier\n",
    "\n",
    "# Treinando o modelo \n",
    "\n",
    "OneVsRestClassifier.fit(train_x, train_y)\n",
    "\n",
    "# Testando o modelo \n",
    "\n",
    "predict = OneVsRestClassifier.predict(test_x)\n",
    "\n",
    "# Medindo o modelo \n",
    "\n",
    "accuracy = accuracy_score(test_y, predict)\n",
    "report = classification_report(test_y, predict)\n",
    "hamming_loss = hamming_loss(test_y, predict)"
   ]
  },
  {
   "cell_type": "code",
   "execution_count": 9,
   "metadata": {},
   "outputs": [
    {
     "name": "stdout",
     "output_type": "stream",
     "text": [
      "0.39802834257547753\n",
      "              precision    recall  f1-score   support\n",
      "\n",
      "           0       0.97      0.31      0.47       192\n",
      "           1       0.71      0.61      0.66       733\n",
      "           2       0.69      0.61      0.65       704\n",
      "           3       1.00      0.35      0.52       279\n",
      "\n",
      "   micro avg       0.73      0.54      0.62      1908\n",
      "   macro avg       0.84      0.47      0.58      1908\n",
      "weighted avg       0.77      0.54      0.62      1908\n",
      " samples avg       0.55      0.55      0.53      1908\n",
      "\n"
     ]
    },
    {
     "data": {
      "text/plain": [
       "80.8071472581639"
      ]
     },
     "execution_count": 9,
     "metadata": {},
     "output_type": "execute_result"
    }
   ],
   "source": [
    "print(accuracy)\n",
    "print(report)\n",
    "(1 - hamming_loss) * 100 "
   ]
  },
  {
   "cell_type": "code",
   "execution_count": 10,
   "metadata": {},
   "outputs": [],
   "source": [
    "## ClassifierChain\n",
    "\n",
    "# Treinando o modelo \n",
    "\n",
    "ClassifierChain.fit(train_x, train_y)\n",
    "\n",
    "# Testando o modelo \n",
    "\n",
    "predict = ClassifierChain.predict(test_x)\n",
    "\n",
    "# Medindo o modelo \n",
    "\n",
    "accuracy = accuracy_score(test_y, predict)\n",
    "report = classification_report(test_y, predict)\n",
    "#hamming_loss = hamming_loss(tes_y, predict)"
   ]
  },
  {
   "cell_type": "code",
   "execution_count": 20,
   "metadata": {},
   "outputs": [
    {
     "name": "stdout",
     "output_type": "stream",
     "text": [
      "0.4929143561306223\n",
      "              precision    recall  f1-score   support\n",
      "\n",
      "           0       0.97      0.31      0.47       192\n",
      "           1       0.68      0.71      0.69       733\n",
      "           2       0.57      0.55      0.56       704\n",
      "           3       0.80      0.48      0.60       279\n",
      "\n",
      "   micro avg       0.66      0.58      0.62      1908\n",
      "   macro avg       0.75      0.51      0.58      1908\n",
      "weighted avg       0.69      0.58      0.61      1908\n",
      " samples avg       0.66      0.59      0.61      1908\n",
      "\n"
     ]
    }
   ],
   "source": [
    "print(accuracy)\n",
    "print(report)\n",
    "#(1 - hamming_loss) * 100 "
   ]
  },
  {
   "cell_type": "code",
   "execution_count": 26,
   "metadata": {},
   "outputs": [
    {
     "name": "stderr",
     "output_type": "stream",
     "text": [
      "C:\\Users\\guilh\\anaconda3\\lib\\site-packages\\sklearn\\metrics\\_classification.py:1245: UndefinedMetricWarning: Precision and F-score are ill-defined and being set to 0.0 in samples with no predicted labels. Use `zero_division` parameter to control this behavior.\n",
      "  _warn_prf(average, modifier, msg_start, len(result))\n"
     ]
    }
   ],
   "source": [
    "## Binary Relevence\n",
    "\n",
    "# Treinando o modelo \n",
    "\n",
    "BinaryRelevance.fit(train_x, train_y)\n",
    "\n",
    "# Testando o modelo \n",
    "\n",
    "predict = BinaryRelevance.predict(test_x)\n",
    "\n",
    "# Medindo o modelo \n",
    "\n",
    "accuracy = accuracy_score(test_y, predict)\n",
    "report = classification_report(test_y, predict)\n",
    "hamming_loss = hamming_loss(test_y, predict)"
   ]
  },
  {
   "cell_type": "code",
   "execution_count": 27,
   "metadata": {},
   "outputs": [
    {
     "name": "stdout",
     "output_type": "stream",
     "text": [
      "0.39802834257547753\n",
      "              precision    recall  f1-score   support\n",
      "\n",
      "           0       0.97      0.31      0.47       192\n",
      "           1       0.71      0.61      0.66       733\n",
      "           2       0.69      0.61      0.65       704\n",
      "           3       1.00      0.35      0.52       279\n",
      "\n",
      "   micro avg       0.73      0.54      0.62      1908\n",
      "   macro avg       0.84      0.47      0.58      1908\n",
      "weighted avg       0.77      0.54      0.62      1908\n",
      " samples avg       0.55      0.55      0.53      1908\n",
      "\n"
     ]
    },
    {
     "data": {
      "text/plain": [
       "80.8071472581639"
      ]
     },
     "execution_count": 27,
     "metadata": {},
     "output_type": "execute_result"
    }
   ],
   "source": [
    "print(accuracy)\n",
    "print(report)\n",
    "(1 - hamming_loss) * 100 "
   ]
  },
  {
   "cell_type": "code",
   "execution_count": 30,
   "metadata": {},
   "outputs": [
    {
     "name": "stderr",
     "output_type": "stream",
     "text": [
      "C:\\Users\\guilh\\anaconda3\\lib\\site-packages\\sklearn\\utils\\validation.py:70: FutureWarning: Pass n_neighbors=10 as keyword args. From version 1.0 (renaming of 0.25) passing these as positional arguments will result in an error\n",
      "  warnings.warn(f\"Pass {args_msg} as keyword args. From version \"\n",
      "C:\\Users\\guilh\\anaconda3\\lib\\site-packages\\sklearn\\metrics\\_classification.py:1245: UndefinedMetricWarning: Precision and F-score are ill-defined and being set to 0.0 in samples with no predicted labels. Use `zero_division` parameter to control this behavior.\n",
      "  _warn_prf(average, modifier, msg_start, len(result))\n"
     ]
    }
   ],
   "source": [
    "## Binary Relevence\n",
    "\n",
    "# Treinando o modelo \n",
    "\n",
    "MLkNN.fit(train_x, train_y)\n",
    "\n",
    "# Testando o modelo \n",
    "\n",
    "predict = MLkNN.predict(test_x)\n",
    "\n",
    "# Medindo o modelo \n",
    "\n",
    "accuracy = accuracy_score(test_y, predict)\n",
    "report = classification_report(test_y, predict)\n",
    "hamming_loss = hamming_loss(test_y, predict)"
   ]
  },
  {
   "cell_type": "code",
   "execution_count": 31,
   "metadata": {},
   "outputs": [
    {
     "name": "stdout",
     "output_type": "stream",
     "text": [
      "0.3672211953173136\n",
      "              precision    recall  f1-score   support\n",
      "\n",
      "           0       0.77      0.47      0.59       192\n",
      "           1       0.62      0.52      0.57       733\n",
      "           2       0.59      0.70      0.64       704\n",
      "           3       0.60      0.41      0.49       279\n",
      "\n",
      "   micro avg       0.61      0.57      0.59      1908\n",
      "   macro avg       0.64      0.53      0.57      1908\n",
      "weighted avg       0.62      0.57      0.58      1908\n",
      " samples avg       0.55      0.57      0.54      1908\n",
      "\n"
     ]
    },
    {
     "data": {
      "text/plain": [
       "76.66358595194085"
      ]
     },
     "execution_count": 31,
     "metadata": {},
     "output_type": "execute_result"
    }
   ],
   "source": [
    "print(accuracy)\n",
    "print(report)\n",
    "(1 - hamming_loss) * 100 "
   ]
  },
  {
   "cell_type": "code",
   "execution_count": null,
   "metadata": {},
   "outputs": [],
   "source": []
  },
  {
   "cell_type": "markdown",
   "metadata": {},
   "source": [
    "# Fraud detection"
   ]
  },
  {
   "cell_type": "code",
   "execution_count": 33,
   "metadata": {},
   "outputs": [],
   "source": [
    "# Importando bibliotecas que serão utilizadas \n",
    "\n",
    "import pandas as pd\n",
    "import numpy as np \n",
    "import matplotlib.pyplot as plt \n",
    "import seaborn as sns\n",
    "import itertools \n",
    "\n",
    "from datetime import timedelta\n",
    "\n",
    "from IPython.display import display\n",
    "\n",
    "from scipy import special "
   ]
  },
  {
   "cell_type": "code",
   "execution_count": 34,
   "metadata": {},
   "outputs": [],
   "source": [
    "# Importando dataframes que serão utilizados \n",
    "\n",
    "df_fraud = pd.read_csv(r\"G:\\Meu Drive\\My Repositories\\Datasets_for_data_science\\df's-db's-ds's\\databases\\datasets\\fraud-detection\\\\Fraud_Data.csv\", header = 0)\n",
    "df_isp = pd.read_csv(r\"G:\\Meu Drive\\My Repositories\\Datasets_for_data_science\\df's-db's-ds's\\databases\\datasets\\fraud-detection\\\\IpAddress_to_Country.csv\", header = 0)"
   ]
  },
  {
   "cell_type": "code",
   "execution_count": 35,
   "metadata": {},
   "outputs": [],
   "source": [
    "# Curso com falhas"
   ]
  },
  {
   "cell_type": "markdown",
   "metadata": {},
   "source": [
    "# Marketing Digital"
   ]
  },
  {
   "cell_type": "code",
   "execution_count": 175,
   "metadata": {},
   "outputs": [],
   "source": [
    "# Importando bibliotecas que serão utilizadas\n",
    "\n",
    "import pandas as pd \n",
    "import numpy as np\n",
    "import json"
   ]
  },
  {
   "cell_type": "code",
   "execution_count": 178,
   "metadata": {},
   "outputs": [],
   "source": [
    "# Importando bibliotecas que serão utilizadas\n",
    "\n",
    "df_marketing = pd.read_csv(r\"G:\\Meu Drive\\My Repositories\\Datasets_for_data_science\\df's-db's-ds's\\databases\\datasets\\\\marketing_digital.csv\", header = 0, \n",
    "                           dtype = {'date': object, 'fullVisitorId': object, 'visitId': object})\n",
    "\n",
    "# Transformando colunas com valores = dicts em colunas novas\n",
    "\n",
    "columns_dicts = ['device', 'geoNetwork', 'totals', 'trafficSource']\n",
    "\n",
    "for coluna in columns_dicts:\n",
    "    df_marketing = df_marketing.join(pd.DataFrame([json.loads(linha) for linha in df_marketing[coluna]]))\n",
    "    df_marketing.drop(columns = coluna, axis = 1, inplace = True)\n",
    "\n",
    "\n",
    "# Dropando colunas que retornam um erro \n",
    "\n",
    "df_marketing.drop(columns = 'adwordsClickInfo', axis = 1, inplace = True)"
   ]
  },
  {
   "cell_type": "code",
   "execution_count": 179,
   "metadata": {},
   "outputs": [
    {
     "name": "stdout",
     "output_type": "stream",
     "text": [
      "channelGrouping possui: 8 itens distintos\n",
      "date possui: 366 itens distintos\n",
      "fullVisitorId possui: 9997 itens distintos\n",
      "sessionId possui: 12276 itens distintos\n",
      "socialEngagementType possui: 1 itens distintos\n",
      "visitId possui: 12272 itens distintos\n",
      "visitNumber possui: 50 itens distintos\n",
      "visitStartTime possui: 12279 itens distintos\n",
      "browser possui: 22 itens distintos\n",
      "browserVersion possui: 1 itens distintos\n",
      "browserSize possui: 1 itens distintos\n",
      "operatingSystem possui: 12 itens distintos\n",
      "operatingSystemVersion possui: 1 itens distintos\n",
      "isMobile possui: 2 itens distintos\n",
      "mobileDeviceBranding possui: 1 itens distintos\n",
      "mobileDeviceModel possui: 1 itens distintos\n",
      "mobileInputSelector possui: 1 itens distintos\n",
      "mobileDeviceInfo possui: 1 itens distintos\n",
      "mobileDeviceMarketingName possui: 1 itens distintos\n",
      "flashVersion possui: 1 itens distintos\n",
      "language possui: 1 itens distintos\n",
      "screenColors possui: 1 itens distintos\n",
      "screenResolution possui: 1 itens distintos\n",
      "deviceCategory possui: 3 itens distintos\n",
      "continent possui: 6 itens distintos\n",
      "subContinent possui: 22 itens distintos\n",
      "country possui: 145 itens distintos\n",
      "region possui: 212 itens distintos\n",
      "metro possui: 53 itens distintos\n",
      "city possui: 296 itens distintos\n",
      "cityId possui: 1 itens distintos\n",
      "networkDomain possui: 1747 itens distintos\n",
      "latitude possui: 1 itens distintos\n",
      "longitude possui: 1 itens distintos\n",
      "networkLocation possui: 1 itens distintos\n",
      "visits possui: 1 itens distintos\n",
      "hits possui: 96 itens distintos\n",
      "pageviews possui: 75 itens distintos\n",
      "bounces possui: 2 itens distintos\n",
      "newVisits possui: 2 itens distintos\n",
      "transactionRevenue possui: 147 itens distintos\n",
      "campaign possui: 7 itens distintos\n",
      "source possui: 76 itens distintos\n",
      "medium possui: 7 itens distintos\n",
      "keyword possui: 129 itens distintos\n",
      "isTrueDirect possui: 2 itens distintos\n",
      "referralPath possui: 198 itens distintos\n",
      "adContent possui: 16 itens distintos\n",
      "campaignCode possui: 2 itens distintos\n"
     ]
    }
   ],
   "source": [
    "val = 0\n",
    "for coluna in df_marketing.columns:\n",
    "    unique = len(df_marketing[coluna].unique())\n",
    "    print(f'{coluna} possui: {unique} itens distintos')\n",
    "    \n",
    "    if unique == 1:\n",
    "        df_marketing.drop(columns = coluna, axis = 1, inplace = True)\n",
    "    \n",
    "    val += 1"
   ]
  },
  {
   "cell_type": "code",
   "execution_count": 187,
   "metadata": {},
   "outputs": [],
   "source": [
    "numeric_columns = ['hits', 'pageviews', 'bounces', 'newVisits', 'transactionRevenue']\n",
    "for coluna in numeric_columns:\n",
    "    df_marketing[coluna] = pd.to_numeric(df_marketing[coluna])"
   ]
  },
  {
   "cell_type": "code",
   "execution_count": 192,
   "metadata": {},
   "outputs": [],
   "source": [
    "df_marketing.transactionRevenue = df_marketing.transactionRevenue/1000000\n",
    "df_marketing.transactionRevenue.fillna(0, inplace=True)"
   ]
  },
  {
   "cell_type": "code",
   "execution_count": 213,
   "metadata": {},
   "outputs": [],
   "source": [
    "important_columns = ['fullVisitorId', 'hits', 'pageviews', 'bounces', 'transactionRevenue']\n",
    "df_visitors = df_marketing.groupby('fullVisitorId', as_index = False)[important_columns].sum()"
   ]
  },
  {
   "cell_type": "code",
   "execution_count": 205,
   "metadata": {},
   "outputs": [
    {
     "data": {
      "text/html": [
       "<div>\n",
       "<style scoped>\n",
       "    .dataframe tbody tr th:only-of-type {\n",
       "        vertical-align: middle;\n",
       "    }\n",
       "\n",
       "    .dataframe tbody tr th {\n",
       "        vertical-align: top;\n",
       "    }\n",
       "\n",
       "    .dataframe thead th {\n",
       "        text-align: right;\n",
       "    }\n",
       "</style>\n",
       "<table border=\"1\" class=\"dataframe\">\n",
       "  <thead>\n",
       "    <tr style=\"text-align: right;\">\n",
       "      <th></th>\n",
       "      <th>channelGrouping</th>\n",
       "      <th>date</th>\n",
       "      <th>fullVisitorId</th>\n",
       "      <th>sessionId</th>\n",
       "      <th>visitId</th>\n",
       "      <th>visitNumber</th>\n",
       "      <th>visitStartTime</th>\n",
       "      <th>browser</th>\n",
       "      <th>operatingSystem</th>\n",
       "      <th>isMobile</th>\n",
       "      <th>...</th>\n",
       "      <th>newVisits</th>\n",
       "      <th>transactionRevenue</th>\n",
       "      <th>campaign</th>\n",
       "      <th>source</th>\n",
       "      <th>medium</th>\n",
       "      <th>keyword</th>\n",
       "      <th>isTrueDirect</th>\n",
       "      <th>referralPath</th>\n",
       "      <th>adContent</th>\n",
       "      <th>campaignCode</th>\n",
       "    </tr>\n",
       "  </thead>\n",
       "  <tbody>\n",
       "    <tr>\n",
       "      <th>0</th>\n",
       "      <td>Organic Search</td>\n",
       "      <td>20160902</td>\n",
       "      <td>9674781571160116268</td>\n",
       "      <td>9674781571160116268_1472804607</td>\n",
       "      <td>1472804607</td>\n",
       "      <td>1</td>\n",
       "      <td>1472804607</td>\n",
       "      <td>Chrome</td>\n",
       "      <td>Windows</td>\n",
       "      <td>False</td>\n",
       "      <td>...</td>\n",
       "      <td>1.0</td>\n",
       "      <td>0.0</td>\n",
       "      <td>(not set)</td>\n",
       "      <td>google</td>\n",
       "      <td>organic</td>\n",
       "      <td>(not provided)</td>\n",
       "      <td>NaN</td>\n",
       "      <td>NaN</td>\n",
       "      <td>NaN</td>\n",
       "      <td>NaN</td>\n",
       "    </tr>\n",
       "    <tr>\n",
       "      <th>1</th>\n",
       "      <td>Organic Search</td>\n",
       "      <td>20160902</td>\n",
       "      <td>8590648239310839049</td>\n",
       "      <td>8590648239310839049_1472835928</td>\n",
       "      <td>1472835928</td>\n",
       "      <td>1</td>\n",
       "      <td>1472835928</td>\n",
       "      <td>Chrome</td>\n",
       "      <td>Macintosh</td>\n",
       "      <td>False</td>\n",
       "      <td>...</td>\n",
       "      <td>1.0</td>\n",
       "      <td>0.0</td>\n",
       "      <td>(not set)</td>\n",
       "      <td>google</td>\n",
       "      <td>organic</td>\n",
       "      <td>(not provided)</td>\n",
       "      <td>NaN</td>\n",
       "      <td>NaN</td>\n",
       "      <td>NaN</td>\n",
       "      <td>NaN</td>\n",
       "    </tr>\n",
       "    <tr>\n",
       "      <th>2</th>\n",
       "      <td>Affiliates</td>\n",
       "      <td>20160902</td>\n",
       "      <td>9772828344252850532</td>\n",
       "      <td>9772828344252850532_1472856802</td>\n",
       "      <td>1472856802</td>\n",
       "      <td>1</td>\n",
       "      <td>1472856802</td>\n",
       "      <td>Chrome</td>\n",
       "      <td>Macintosh</td>\n",
       "      <td>False</td>\n",
       "      <td>...</td>\n",
       "      <td>1.0</td>\n",
       "      <td>0.0</td>\n",
       "      <td>Data Share Promo</td>\n",
       "      <td>Partners</td>\n",
       "      <td>affiliate</td>\n",
       "      <td>NaN</td>\n",
       "      <td>NaN</td>\n",
       "      <td>NaN</td>\n",
       "      <td>NaN</td>\n",
       "      <td>NaN</td>\n",
       "    </tr>\n",
       "  </tbody>\n",
       "</table>\n",
       "<p>3 rows × 31 columns</p>\n",
       "</div>"
      ],
      "text/plain": [
       "  channelGrouping      date        fullVisitorId  \\\n",
       "0  Organic Search  20160902  9674781571160116268   \n",
       "1  Organic Search  20160902  8590648239310839049   \n",
       "2      Affiliates  20160902  9772828344252850532   \n",
       "\n",
       "                        sessionId     visitId  visitNumber  visitStartTime  \\\n",
       "0  9674781571160116268_1472804607  1472804607            1      1472804607   \n",
       "1  8590648239310839049_1472835928  1472835928            1      1472835928   \n",
       "2  9772828344252850532_1472856802  1472856802            1      1472856802   \n",
       "\n",
       "  browser operatingSystem  isMobile  ... newVisits transactionRevenue  \\\n",
       "0  Chrome         Windows     False  ...       1.0                0.0   \n",
       "1  Chrome       Macintosh     False  ...       1.0                0.0   \n",
       "2  Chrome       Macintosh     False  ...       1.0                0.0   \n",
       "\n",
       "           campaign    source     medium         keyword isTrueDirect  \\\n",
       "0         (not set)    google    organic  (not provided)          NaN   \n",
       "1         (not set)    google    organic  (not provided)          NaN   \n",
       "2  Data Share Promo  Partners  affiliate             NaN          NaN   \n",
       "\n",
       "  referralPath  adContent  campaignCode  \n",
       "0          NaN        NaN           NaN  \n",
       "1          NaN        NaN           NaN  \n",
       "2          NaN        NaN           NaN  \n",
       "\n",
       "[3 rows x 31 columns]"
      ]
     },
     "execution_count": 205,
     "metadata": {},
     "output_type": "execute_result"
    }
   ],
   "source": [
    "df_marketing.head(3)"
   ]
  },
  {
   "cell_type": "code",
   "execution_count": 214,
   "metadata": {},
   "outputs": [
    {
     "data": {
      "text/html": [
       "<div>\n",
       "<style scoped>\n",
       "    .dataframe tbody tr th:only-of-type {\n",
       "        vertical-align: middle;\n",
       "    }\n",
       "\n",
       "    .dataframe tbody tr th {\n",
       "        vertical-align: top;\n",
       "    }\n",
       "\n",
       "    .dataframe thead th {\n",
       "        text-align: right;\n",
       "    }\n",
       "</style>\n",
       "<table border=\"1\" class=\"dataframe\">\n",
       "  <thead>\n",
       "    <tr style=\"text-align: right;\">\n",
       "      <th></th>\n",
       "      <th>fullVisitorId</th>\n",
       "      <th>hits</th>\n",
       "      <th>pageviews</th>\n",
       "      <th>bounces</th>\n",
       "      <th>transactionRevenue</th>\n",
       "    </tr>\n",
       "  </thead>\n",
       "  <tbody>\n",
       "    <tr>\n",
       "      <th>0</th>\n",
       "      <td>0002365800130207040</td>\n",
       "      <td>1</td>\n",
       "      <td>1</td>\n",
       "      <td>1.0</td>\n",
       "      <td>0.0</td>\n",
       "    </tr>\n",
       "    <tr>\n",
       "      <th>1</th>\n",
       "      <td>0010286039787739137</td>\n",
       "      <td>4</td>\n",
       "      <td>3</td>\n",
       "      <td>0.0</td>\n",
       "      <td>0.0</td>\n",
       "    </tr>\n",
       "    <tr>\n",
       "      <th>2</th>\n",
       "      <td>0011056874471185769</td>\n",
       "      <td>2</td>\n",
       "      <td>2</td>\n",
       "      <td>0.0</td>\n",
       "      <td>0.0</td>\n",
       "    </tr>\n",
       "  </tbody>\n",
       "</table>\n",
       "</div>"
      ],
      "text/plain": [
       "         fullVisitorId  hits  pageviews  bounces  transactionRevenue\n",
       "0  0002365800130207040     1          1      1.0                 0.0\n",
       "1  0010286039787739137     4          3      0.0                 0.0\n",
       "2  0011056874471185769     2          2      0.0                 0.0"
      ]
     },
     "execution_count": 214,
     "metadata": {},
     "output_type": "execute_result"
    }
   ],
   "source": [
    "df_visitors.head(3)"
   ]
  },
  {
   "cell_type": "code",
   "execution_count": null,
   "metadata": {},
   "outputs": [],
   "source": []
  }
 ],
 "metadata": {
  "interpreter": {
   "hash": "51b9ad24d63439ac1595c0936db43b926a873ce9029c5f9bea069af26a7b72f1"
  },
  "kernelspec": {
   "display_name": "Python 3.8.12 64-bit ('base': conda)",
   "language": "python",
   "name": "python3"
  },
  "language_info": {
   "codemirror_mode": {
    "name": "ipython",
    "version": 3
   },
   "file_extension": ".py",
   "mimetype": "text/x-python",
   "name": "python",
   "nbconvert_exporter": "python",
   "pygments_lexer": "ipython3",
   "version": "3.8.12"
  },
  "orig_nbformat": 4
 },
 "nbformat": 4,
 "nbformat_minor": 2
}
