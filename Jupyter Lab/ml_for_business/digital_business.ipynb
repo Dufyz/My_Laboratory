{
 "cells": [
  {
   "cell_type": "markdown",
   "metadata": {},
   "source": [
    "# Movies Recomendation "
   ]
  },
  {
   "cell_type": "code",
   "execution_count": 1,
   "metadata": {},
   "outputs": [],
   "source": [
    "# Importando bibliotecas que serão utilizadas\n",
    "\n",
    "import pandas as pd\n",
    "import numpy as np \n",
    "import matplotlib.pyplot as plt"
   ]
  },
  {
   "cell_type": "code",
   "execution_count": 2,
   "metadata": {},
   "outputs": [],
   "source": [
    "# Importando dataframes que serão utilizados\n",
    "\n",
    "df_movies = pd.read_csv(r\"G:\\Meu Drive\\My Repositories\\Datasets_for_data_science\\df's-db's-ds's\\databases\\datasets\\ml-latest-small\\\\movies.csv\")\n",
    "df_ratings = pd.read_csv(r\"G:\\Meu Drive\\My Repositories\\Datasets_for_data_science\\df's-db's-ds's\\databases\\datasets\\ml-latest-small\\\\ratings.csv\")\n",
    "#df_tags = pd.read_csv(r\"G:\\Meu Drive\\My Repositories\\Datasets_for_data_science\\df's-db's-ds's\\databases\\datasets\\ml-latest-small\\\\tags.csv\")"
   ]
  },
  {
   "cell_type": "code",
   "execution_count": 3,
   "metadata": {},
   "outputs": [],
   "source": [
    "# Alterando o dataframe para melhor uso \n",
    "\n",
    "df_movies = df_movies.set_index(df_movies['movieId'])\n",
    "df_movies = df_movies.drop(columns = ['movieId'])\n",
    "df_movies['mean_ratings'] = df_ratings.groupby('movieId').mean()['rating']\n",
    "df_movies['total_rates'] = df_ratings['movieId'].value_counts()\n",
    "\n",
    "df_ratings = df_ratings.set_index('userId')"
   ]
  },
  {
   "cell_type": "code",
   "execution_count": 4,
   "metadata": {},
   "outputs": [],
   "source": [
    "# Função para calcular a distância entre dois pontos\n",
    "\n",
    "def vetor_dist(a,b):\n",
    "  return np.linalg.norm(a - b)"
   ]
  },
  {
   "cell_type": "code",
   "execution_count": 5,
   "metadata": {},
   "outputs": [],
   "source": [
    "# Função para capturar as notas de um determinado usuário\n",
    "\n",
    "def user_grade(user_id):\n",
    "    user_grades = df_ratings.query(f'userId == {user_id}')\n",
    "    user_grades = user_grades[['movieId', 'rating']].set_index('movieId')\n",
    "\n",
    "    return user_grades"
   ]
  },
  {
   "cell_type": "code",
   "execution_count": 6,
   "metadata": {},
   "outputs": [],
   "source": [
    "# Função para calcular a distância entre dois usuários\n",
    "\n",
    "def users_dist(user_id_01, user_id_02, min = 5):\n",
    "  user_grade_01 = user_grade(user_id_01)\n",
    "  user_grade_02 = user_grade(user_id_02)\n",
    "  grade = user_grade_01.join(user_grade_02, lsuffix = f'_{user_id_01}', rsuffix = f'_{user_id_02}').dropna()\n",
    "  dist = vetor_dist(grade[f'rating_{user_id_01}'], grade[f'rating_{user_id_02}'])\n",
    "  \n",
    "  if (len(grade) < min):\n",
    "    return [user_id_01, user_id_02, None]\n",
    "    \n",
    "  return [user_id_01, user_id_02, dist]"
   ]
  },
  {
   "cell_type": "code",
   "execution_count": 7,
   "metadata": {},
   "outputs": [],
   "source": [
    "# Função para calcular a distância de um usuário com todos os outros\n",
    "\n",
    "def all_users_dist(user_id):\n",
    "  users = df_ratings.index.unique()\n",
    "  dists = [users_dist(user_id, user) for user in users]\n",
    "  df_users_dist = pd.DataFrame(dists, columns = ['Principal Id', 'Index', 'Distance']).set_index('Index')\n",
    "  df_users_dist = df_users_dist.drop(1)\n",
    "  \n",
    "  return df_users_dist"
   ]
  },
  {
   "cell_type": "code",
   "execution_count": 8,
   "metadata": {},
   "outputs": [
    {
     "data": {
      "text/html": [
       "<div>\n",
       "<style scoped>\n",
       "    .dataframe tbody tr th:only-of-type {\n",
       "        vertical-align: middle;\n",
       "    }\n",
       "\n",
       "    .dataframe tbody tr th {\n",
       "        vertical-align: top;\n",
       "    }\n",
       "\n",
       "    .dataframe thead th {\n",
       "        text-align: right;\n",
       "    }\n",
       "</style>\n",
       "<table border=\"1\" class=\"dataframe\">\n",
       "  <thead>\n",
       "    <tr style=\"text-align: right;\">\n",
       "      <th></th>\n",
       "      <th>Principal Id</th>\n",
       "      <th>Distance</th>\n",
       "    </tr>\n",
       "    <tr>\n",
       "      <th>Index</th>\n",
       "      <th></th>\n",
       "      <th></th>\n",
       "    </tr>\n",
       "  </thead>\n",
       "  <tbody>\n",
       "    <tr>\n",
       "      <th>2</th>\n",
       "      <td>1</td>\n",
       "      <td>NaN</td>\n",
       "    </tr>\n",
       "    <tr>\n",
       "      <th>3</th>\n",
       "      <td>1</td>\n",
       "      <td>8.200610</td>\n",
       "    </tr>\n",
       "    <tr>\n",
       "      <th>4</th>\n",
       "      <td>1</td>\n",
       "      <td>11.135529</td>\n",
       "    </tr>\n",
       "    <tr>\n",
       "      <th>5</th>\n",
       "      <td>1</td>\n",
       "      <td>3.741657</td>\n",
       "    </tr>\n",
       "    <tr>\n",
       "      <th>6</th>\n",
       "      <td>1</td>\n",
       "      <td>8.602325</td>\n",
       "    </tr>\n",
       "  </tbody>\n",
       "</table>\n",
       "</div>"
      ],
      "text/plain": [
       "       Principal Id   Distance\n",
       "Index                         \n",
       "2                 1        NaN\n",
       "3                 1   8.200610\n",
       "4                 1  11.135529\n",
       "5                 1   3.741657\n",
       "6                 1   8.602325"
      ]
     },
     "execution_count": 8,
     "metadata": {},
     "output_type": "execute_result"
    }
   ],
   "source": [
    "all_users_dist(1).head()"
   ]
  },
  {
   "cell_type": "code",
   "execution_count": 9,
   "metadata": {},
   "outputs": [],
   "source": [
    "# Função para indicar os usuários mais proximos de um usuário determinado \n",
    "\n",
    "def most_near(user_id):\n",
    "  df_users_dist = all_users_dist(user_id)\n",
    "  near = df_users_dist.sort_values('Distance', ascending = True).dropna()\n",
    "\n",
    "  return near"
   ]
  },
  {
   "cell_type": "code",
   "execution_count": 10,
   "metadata": {},
   "outputs": [
    {
     "data": {
      "text/html": [
       "<div>\n",
       "<style scoped>\n",
       "    .dataframe tbody tr th:only-of-type {\n",
       "        vertical-align: middle;\n",
       "    }\n",
       "\n",
       "    .dataframe tbody tr th {\n",
       "        vertical-align: top;\n",
       "    }\n",
       "\n",
       "    .dataframe thead th {\n",
       "        text-align: right;\n",
       "    }\n",
       "</style>\n",
       "<table border=\"1\" class=\"dataframe\">\n",
       "  <thead>\n",
       "    <tr style=\"text-align: right;\">\n",
       "      <th></th>\n",
       "      <th>Principal Id</th>\n",
       "      <th>Distance</th>\n",
       "    </tr>\n",
       "    <tr>\n",
       "      <th>Index</th>\n",
       "      <th></th>\n",
       "      <th></th>\n",
       "    </tr>\n",
       "  </thead>\n",
       "  <tbody>\n",
       "    <tr>\n",
       "      <th>77</th>\n",
       "      <td>1</td>\n",
       "      <td>0.000000</td>\n",
       "    </tr>\n",
       "    <tr>\n",
       "      <th>511</th>\n",
       "      <td>1</td>\n",
       "      <td>0.500000</td>\n",
       "    </tr>\n",
       "    <tr>\n",
       "      <th>366</th>\n",
       "      <td>1</td>\n",
       "      <td>0.707107</td>\n",
       "    </tr>\n",
       "    <tr>\n",
       "      <th>9</th>\n",
       "      <td>1</td>\n",
       "      <td>1.000000</td>\n",
       "    </tr>\n",
       "    <tr>\n",
       "      <th>49</th>\n",
       "      <td>1</td>\n",
       "      <td>1.000000</td>\n",
       "    </tr>\n",
       "  </tbody>\n",
       "</table>\n",
       "</div>"
      ],
      "text/plain": [
       "       Principal Id  Distance\n",
       "Index                        \n",
       "77                1  0.000000\n",
       "511               1  0.500000\n",
       "366               1  0.707107\n",
       "9                 1  1.000000\n",
       "49                1  1.000000"
      ]
     },
     "execution_count": 10,
     "metadata": {},
     "output_type": "execute_result"
    }
   ],
   "source": [
    "most_near(1).head()"
   ]
  },
  {
   "cell_type": "code",
   "execution_count": 11,
   "metadata": {},
   "outputs": [],
   "source": [
    "# Função para recomendar filmes baseado nos usuários mais proximos \n",
    "\n",
    "def recommend_movies(user_id, k = 100, m = 10):\n",
    "\n",
    "    near_users = most_near(user_id).head(k).index.values\n",
    "\n",
    "    near_user_data = df_ratings.loc[user_id].sort_values('rating', ascending = False).head(m).drop(columns= ['timestamp']).set_index('movieId')\n",
    "    near_user_data = {'user': user_id, 'movies': [i for i in near_user_data.index.values], 'rates': [r for r in near_user_data.rating.values]}\n",
    "    data = pd.DataFrame().from_dict(near_user_data).set_index('user')\n",
    "\n",
    "    for c in near_users:\n",
    "        if c == near_users[0]:\n",
    "            pass\n",
    "\n",
    "        near_user_data = df_ratings.loc[c].sort_values('rating', ascending = False).head(m).drop(columns= ['timestamp']).set_index('movieId')\n",
    "            \n",
    "        near_user_data = {'user': c, 'movies': [i for i in near_user_data.index.values], 'rates': [r for r in near_user_data.rating.values]}\n",
    "\n",
    "        near_user_data = pd.DataFrame().from_dict(near_user_data).set_index('user')\n",
    "            \n",
    "        data = pd.concat([data, near_user_data])\n",
    "\n",
    "    most_recommend_df = data.movies.value_counts().to_frame('rates_counts').sort_values('rates_counts', ascending = False)\n",
    "\n",
    "    for c in user_grade(user_id).index.values:\n",
    "        if c in most_recommend_df.index.values:\n",
    "            most_recommend_df = most_recommend_df.drop(c)\n",
    "\n",
    "    most_recommend_indexs = [k for k in most_recommend_df.index.values]\n",
    "    most_recommend_df['mean_rates'] = [data.loc[data['movies'] == c].rates.mean() for c in most_recommend_indexs]\n",
    "\n",
    "    most_recommend_movies = [df_movies.loc[i].title for i in most_recommend_indexs]\n",
    "    most_recommend_df['movies'] = most_recommend_movies\n",
    "\n",
    "    most_recommend_df = most_recommend_df.sort_values(['rates_counts', 'mean_rates'], ascending = False).head(m)\n",
    "\n",
    "    recommend_movies = [m for m in most_recommend_df.movies]\n",
    "\n",
    "    return recommend_movies"
   ]
  },
  {
   "cell_type": "code",
   "execution_count": 12,
   "metadata": {},
   "outputs": [],
   "source": [
    "# Simulando quais as recomendações para um usuário novo\n",
    "\n",
    "data = [102084, 5],[153, 4],[3793, 4],[5349, 5],[33794, 5],[60069, 4],[2706, 4],[723998, 4.5],[59315, 5]\n",
    "\n",
    "def new_user(data):\n",
    "\n",
    "    index = df_ratings.index.max()+1\n",
    "    new_user = pd.DataFrame(data, columns=['movieId', 'rating'])\n",
    "    new_user['userId'] = index\n",
    "    new_user = new_user.set_index('userId')\n",
    "\n",
    "    new_df_ratings = pd.concat([df_ratings, new_user])\n",
    "\n",
    "    return new_df_ratings"
   ]
  },
  {
   "cell_type": "code",
   "execution_count": 13,
   "metadata": {},
   "outputs": [
    {
     "data": {
      "text/html": [
       "<div>\n",
       "<style scoped>\n",
       "    .dataframe tbody tr th:only-of-type {\n",
       "        vertical-align: middle;\n",
       "    }\n",
       "\n",
       "    .dataframe tbody tr th {\n",
       "        vertical-align: top;\n",
       "    }\n",
       "\n",
       "    .dataframe thead th {\n",
       "        text-align: right;\n",
       "    }\n",
       "</style>\n",
       "<table border=\"1\" class=\"dataframe\">\n",
       "  <thead>\n",
       "    <tr style=\"text-align: right;\">\n",
       "      <th></th>\n",
       "      <th>movieId</th>\n",
       "      <th>rating</th>\n",
       "      <th>timestamp</th>\n",
       "    </tr>\n",
       "    <tr>\n",
       "      <th>userId</th>\n",
       "      <th></th>\n",
       "      <th></th>\n",
       "      <th></th>\n",
       "    </tr>\n",
       "  </thead>\n",
       "  <tbody>\n",
       "    <tr>\n",
       "      <th>610</th>\n",
       "      <td>166534</td>\n",
       "      <td>4.0</td>\n",
       "      <td>1493848402</td>\n",
       "    </tr>\n",
       "    <tr>\n",
       "      <th>610</th>\n",
       "      <td>168248</td>\n",
       "      <td>5.0</td>\n",
       "      <td>1493850091</td>\n",
       "    </tr>\n",
       "    <tr>\n",
       "      <th>610</th>\n",
       "      <td>168250</td>\n",
       "      <td>5.0</td>\n",
       "      <td>1494273047</td>\n",
       "    </tr>\n",
       "    <tr>\n",
       "      <th>610</th>\n",
       "      <td>168252</td>\n",
       "      <td>5.0</td>\n",
       "      <td>1493846352</td>\n",
       "    </tr>\n",
       "    <tr>\n",
       "      <th>610</th>\n",
       "      <td>170875</td>\n",
       "      <td>3.0</td>\n",
       "      <td>1493846415</td>\n",
       "    </tr>\n",
       "  </tbody>\n",
       "</table>\n",
       "</div>"
      ],
      "text/plain": [
       "        movieId  rating   timestamp\n",
       "userId                             \n",
       "610      166534     4.0  1493848402\n",
       "610      168248     5.0  1493850091\n",
       "610      168250     5.0  1494273047\n",
       "610      168252     5.0  1493846352\n",
       "610      170875     3.0  1493846415"
      ]
     },
     "execution_count": 13,
     "metadata": {},
     "output_type": "execute_result"
    }
   ],
   "source": [
    "df_ratings.tail()"
   ]
  },
  {
   "cell_type": "code",
   "execution_count": 14,
   "metadata": {},
   "outputs": [
    {
     "data": {
      "text/html": [
       "<div>\n",
       "<style scoped>\n",
       "    .dataframe tbody tr th:only-of-type {\n",
       "        vertical-align: middle;\n",
       "    }\n",
       "\n",
       "    .dataframe tbody tr th {\n",
       "        vertical-align: top;\n",
       "    }\n",
       "\n",
       "    .dataframe thead th {\n",
       "        text-align: right;\n",
       "    }\n",
       "</style>\n",
       "<table border=\"1\" class=\"dataframe\">\n",
       "  <thead>\n",
       "    <tr style=\"text-align: right;\">\n",
       "      <th></th>\n",
       "      <th>movieId</th>\n",
       "      <th>rating</th>\n",
       "      <th>timestamp</th>\n",
       "    </tr>\n",
       "    <tr>\n",
       "      <th>userId</th>\n",
       "      <th></th>\n",
       "      <th></th>\n",
       "      <th></th>\n",
       "    </tr>\n",
       "  </thead>\n",
       "  <tbody>\n",
       "    <tr>\n",
       "      <th>611</th>\n",
       "      <td>33794</td>\n",
       "      <td>5.0</td>\n",
       "      <td>NaN</td>\n",
       "    </tr>\n",
       "    <tr>\n",
       "      <th>611</th>\n",
       "      <td>60069</td>\n",
       "      <td>4.0</td>\n",
       "      <td>NaN</td>\n",
       "    </tr>\n",
       "    <tr>\n",
       "      <th>611</th>\n",
       "      <td>2706</td>\n",
       "      <td>4.0</td>\n",
       "      <td>NaN</td>\n",
       "    </tr>\n",
       "    <tr>\n",
       "      <th>611</th>\n",
       "      <td>723998</td>\n",
       "      <td>4.5</td>\n",
       "      <td>NaN</td>\n",
       "    </tr>\n",
       "    <tr>\n",
       "      <th>611</th>\n",
       "      <td>59315</td>\n",
       "      <td>5.0</td>\n",
       "      <td>NaN</td>\n",
       "    </tr>\n",
       "  </tbody>\n",
       "</table>\n",
       "</div>"
      ],
      "text/plain": [
       "        movieId  rating  timestamp\n",
       "userId                            \n",
       "611       33794     5.0        NaN\n",
       "611       60069     4.0        NaN\n",
       "611        2706     4.0        NaN\n",
       "611      723998     4.5        NaN\n",
       "611       59315     5.0        NaN"
      ]
     },
     "execution_count": 14,
     "metadata": {},
     "output_type": "execute_result"
    }
   ],
   "source": [
    "df_ratings = new_user(data)\n",
    "df_ratings.tail()"
   ]
  },
  {
   "cell_type": "code",
   "execution_count": 15,
   "metadata": {},
   "outputs": [
    {
     "data": {
      "text/plain": [
       "['Toy Story (1995)',\n",
       " 'Star Wars: Episode V - The Empire Strikes Back (1980)',\n",
       " 'Dark Knight, The (2008)',\n",
       " 'Shawshank Redemption, The (1994)',\n",
       " 'Raiders of the Lost Ark (Indiana Jones and the Raiders of the Lost Ark) (1981)',\n",
       " 'Lord of the Rings: The Fellowship of the Ring, The (2001)',\n",
       " 'American History X (1998)',\n",
       " 'Fight Club (1999)',\n",
       " 'Back to the Future (1985)',\n",
       " 'Monty Python and the Holy Grail (1975)']"
      ]
     },
     "execution_count": 15,
     "metadata": {},
     "output_type": "execute_result"
    }
   ],
   "source": [
    "recommend_movies(611)"
   ]
  },
  {
   "cell_type": "code",
   "execution_count": null,
   "metadata": {},
   "outputs": [],
   "source": []
  }
 ],
 "metadata": {
  "interpreter": {
   "hash": "51b9ad24d63439ac1595c0936db43b926a873ce9029c5f9bea069af26a7b72f1"
  },
  "kernelspec": {
   "display_name": "Python 3.8.12 64-bit ('base': conda)",
   "language": "python",
   "name": "python3"
  },
  "language_info": {
   "codemirror_mode": {
    "name": "ipython",
    "version": 3
   },
   "file_extension": ".py",
   "mimetype": "text/x-python",
   "name": "python",
   "nbconvert_exporter": "python",
   "pygments_lexer": "ipython3",
   "version": "3.8.12"
  },
  "orig_nbformat": 4
 },
 "nbformat": 4,
 "nbformat_minor": 2
}
